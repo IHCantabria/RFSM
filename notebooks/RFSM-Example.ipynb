{
 "cells": [
  {
   "cell_type": "markdown",
   "metadata": {},
   "source": [
    "# Ejecución de modelos RFSM con python\n",
    "\n",
    "\n",
    "29/09/2021\n",
    "\n",
    "**Salvador Navas Fernández** ([IH Cantabria](https://ihcantabria.com/), Santander, Spain)\n",
    "\n",
    "<img src=\"https://ihcantabria.com/wp-content/uploads/2020/07/Logo-IHCantabria-Universidad-Cantabria-cmyk.png\" alt=\"drawing\" width=\"500\"/>\n",
    "\n",
    "En lo últimos años el avance de python y QGIS han permitido ir ganando terreno a ArcGIS cuya licencia no es libre. Por tanto en este trabajo se han realizado funciones que permiten realizar el trabajo en cualquier sistema operativo y de forma más optimizada y automática. El objetivo principal es el elaborar los inputs de partida del modelo RFSM y su ejecución, de esta forma se ha conseguido reducir lo tiempos de cómputo del proceso.\n",
    "\n",
    "A continuación se muestra un ejemplo de principio a fin de cómo elaborar y proyecto de RFSM, su ejecución y la obtención de resultados."
   ]
  },
  {
   "cell_type": "code",
   "execution_count": 7,
   "metadata": {},
   "outputs": [],
   "source": [
    "from RFSM_python.impactzones import *\n",
    "from RFSM_python.perfiles import *\n",
    "from RFSM_python.manning import *\n",
    "from RFSM_python.tursBC import *\n",
    "from RFSM_python.executionRFSM import *\n",
    "from RFSM_python.dinamicas import *\n",
    "from RFSM_python.TWL import *\n",
    "from RFSM_python.configRFSM import *\n",
    "from RFSM_python.executionRFSM import *\n",
    "\n",
    "import warnings\n",
    "from datetime import datetime, timedelta\n",
    "warnings.filterwarnings('ignore')"
   ]
  },
  {
   "cell_type": "markdown",
   "metadata": {
    "tags": []
   },
   "source": [
    "# INPUT\n",
    "\n",
    "En primer lugar es necesario configurar los nombres de los path donde se va a trabajar además de la configuración inicial del modelo RFSM.\n",
    "Previamente se tiene que tener ya la carpeta configurada, es decir con la siguiente distribución de carpetas que se obtiene al ejecutar las siguientes líneas. \n",
    "\n",
    "```\n",
    "project\n",
    "└───ascii\n",
    "└───bin\n",
    "└───demos\n",
    "└───doc\n",
    "└───scripts\n",
    "└───shp\n",
    "└───src\n",
    "└───test\n",
    "```\n",
    "\n"
   ]
  },
  {
   "cell_type": "code",
   "execution_count": 8,
   "metadata": {},
   "outputs": [],
   "source": [
    "path_project      = 'E:/Github/RFSM/tests/MURCIA/RFSM/' # Directorio donde se va a localizar el proyecto, es decir donde se va a simular el modelo\n",
    "COTA_ESTUDIO      = 10\n",
    "cellsize          = 5\n",
    "path_output       = path_project+'/ascii/'\n",
    "DTM_CLIP_LC       = '../tests/MURCIA/DATA_IN/MDT/mdt.asc'\n",
    "path_install_RFSM = '../tests/IHRFSM_v1.0/'\n",
    "make_dirs_RFSM(path_install_RFSM,path_project)"
   ]
  },
  {
   "cell_type": "markdown",
   "metadata": {},
   "source": [
    "Una vez creadas las carpetas Lo más importante es que las carpetas contengan los ficheros necesarios, lo más importante es la carpeta ascii de donde partiremos para preprar el modelo. En esta carpeta se deben de encontrar los ficheros que se crean tras la ejecución de 'AccData'.\n",
    "\n",
    "```\n",
    "project\n",
    "└───ascii\n",
    "│   │   floodareas.asc\n",
    "│   │   tblCell.csv\n",
    "│   │   tblImpactZone.csv\n",
    "│   │   tblIZNbrWidth.csv\n",
    "│   │   tblIZNeighbour.csv\n",
    "│   │   tblIZVolume.csv\n",
    "│   │   tblParameters.csv\n",
    "│   │   topography.asc\n",
    "│   └───check\n",
    "│       │   acccells_izid.csv\n",
    "│       │   cellid.asc\n",
    "│       │   dirdrainage.asc\n",
    "│       │   izid1.asc\n",
    "│       │   izid2.asc\n",
    "│───bin\n",
    "│───demos\n",
    "│───doc\n",
    "│───scripts\n",
    "│───shp\n",
    "│───src\n",
    "│───test\n",
    "```\n"
   ]
  },
  {
   "cell_type": "markdown",
   "metadata": {},
   "source": [
    "Una vez que se han obtenido la malla de proyecto de estudio, se procede a la ejecución del proceso para obtener los inputs necesarios del modelo RFSM"
   ]
  },
  {
   "cell_type": "markdown",
   "metadata": {},
   "source": [
    "# IMPACT ZONES"
   ]
  },
  {
   "cell_type": "code",
   "execution_count": 3,
   "metadata": {},
   "outputs": [
    {
     "name": "stdout",
     "output_type": "stream",
     "text": [
      "114.05198168754578\n"
     ]
    }
   ],
   "source": [
    "Table_impact_zone, izcoast = impact_zones_process(path_project,DTM_CLIP_LC,cellsize=cellsize,COTA_ESTUDIO = COTA_ESTUDIO, new_coast_Line = True)"
   ]
  },
  {
   "cell_type": "markdown",
   "metadata": {},
   "source": [
    "Una vez que se ha ejecutado la línea anterior se crean dentro de la carpeta **shp** y **ascii** ficheros importantes para la configuración del modelo RFSM\n",
    "```\n",
    "project\n",
    "└───ascii\n",
    "│   │   izcoast.csv\n",
    "│   │   tblImpactZone.csv\n",
    "└───shp\n",
    "│   │  izcoast.shp\n",
    "```\n",
    "\n",
    "El fichero **izcoast.shp** son las ImpactZones donde se incoporan las condiciones de contorno asociadas a *nivel* o *rebase*, pero en ocasiones cuando el corte del mdt no es limpio se generan celdas de contorno que no son correctas, por tanto es necesario modificar eliminando estas celdas del fichero **izcoast.shp**. Al nuevo fichero creado le llamamos **izcoast_2.shp** Para modificar la tabla de *izcoast* Se ejecuta la siguiente línea de código obteniendo como resultado otro fichero csv llamado **izcoast_def.csv** que será utilizado para las condiciones de contorno de RFSM."
   ]
  },
  {
   "cell_type": "code",
   "execution_count": 4,
   "metadata": {},
   "outputs": [],
   "source": [
    "izcoast_modify(path_project,path_project+'shp/izcoast_2.shp', path_project+'ascii/izcoast.csv', path_project+'ascii/izcoast_def.csv')"
   ]
  },
  {
   "cell_type": "markdown",
   "metadata": {},
   "source": [
    "# PERFILES BATIMETRÍA\n",
    "\n",
    "Uno de los parámetros necesarios necesarios en las características de los puntos de TWL es la pendiente de la costa. Como datos de partida es necesaria una linea de costa y la batimetría. La batimetría puede ser utilizada como curvas de nivel o a través de un raster.\n",
    "\n",
    "En este ejemplo se puede utilizar los dos formatos ya que se ha descargado la batimetría de la zona de estudio de la [Ecocartografía](https://www.miteco.gob.es/es/costas/temas/proteccion-costa/ecocartografias/default.aspx) y se ha generado un raster a partir de la interpolación de las curvas de nivel. Es necesario destacar que la descarga de la Batimetría de la Ecocartografía es en formato KML por lo que a través de QGIS es necesario exportarla a shape ya que la cota no está asignada a la geometría sino que está fuera.\n",
    "\n",
    "Los parámetros que se introducen son:\n",
    "* SPAC = que es la separación que se quiere entre perfiles\n",
    "* Ltierra = longitud del perfil desde la linea de costa hacia tierra\n",
    "* Lmar = longitud del perfil hacia el mar. Siempre el perfil tiene que superar el punto de dinámicas\n",
    "* Postierra = **1** Si en el sentido de avance de la línea de costa la tierra está a la izquierda **0** Si en el sentido de avance de la línea de costa la tierra está a la derecha\n",
    "* plott = **1** si se quiere plotear los perfiles y **0** si no se quiere\n",
    "\n",
    "Una vez que se generan los perfiles es necesario editarlo en GIS para evitar que se crucen o que haya perfiles fuera de la batimetría. También en ocasiones cuando se utilizan curvas de nivel es necesario verificar que todos los perfiles cruzan las curvas de nivel. Sino sería necesario editarlo también.\n"
   ]
  },
  {
   "cell_type": "code",
   "execution_count": 2,
   "metadata": {},
   "outputs": [],
   "source": [
    "SPAC = 800\n",
    "Ltierra = 200\n",
    "Lmar = 1000\n",
    "Postierra = 0\n",
    "plott = 1\n",
    "EPSG  = 25830"
   ]
  },
  {
   "cell_type": "code",
   "execution_count": 3,
   "metadata": {},
   "outputs": [
    {
     "data": {
      "image/png": "[encoded data removed]",
      "text/plain": [
       "<Figure size 432x288 with 1 Axes>"
      ]
     },
     "metadata": {
      "needs_background": "light"
     },
     "output_type": "display_data"
    }
   ],
   "source": [
    "traza_perfiles_linea('../tests/MURCIA/DATA_IN/Perfiles/linea_costa_suavizada.shp',\n",
    "                     SPAC,Ltierra,Lmar,Postierra,plott,path_output='../tests/MURCIA/DATA_IN/Perfiles/')"
   ]
  },
  {
   "cell_type": "markdown",
   "metadata": {},
   "source": [
    "Una vez modificado el shape de perfiles llamado **Cross_Sections.shp** se jecuta la siguiente línea para actualizar la tabla de atributos y generar el fichero de perfiles final **Cross_Sections_Final.shp**"
   ]
  },
  {
   "cell_type": "code",
   "execution_count": 4,
   "metadata": {},
   "outputs": [],
   "source": [
    "correct_perfiles_linea('../tests/MURCIA/DATA_IN/Perfiles/Cross_Sections.shp',path_output='../tests/MURCIA/DATA_IN/Perfiles/')"
   ]
  },
  {
   "cell_type": "markdown",
   "metadata": {},
   "source": [
    "A continuación se calcula la pendiente para cada uno de los perfiles y se obtiene el fichero **Cross_Sections_mforshore**."
   ]
  },
  {
   "cell_type": "code",
   "execution_count": 4,
   "metadata": {},
   "outputs": [],
   "source": [
    "calculate_mforshore('../tests/MURCIA/DATA_IN/Batimetria/Batimetria.tif', \n",
    "                    '../tests/MURCIA/DATA_IN/Perfiles/Cross_Sections_Final.shp', EPSG, '../tests/MURCIA/DATA_IN/Perfiles/')"
   ]
  },
  {
   "cell_type": "markdown",
   "metadata": {},
   "source": [
    "Además de la línea de costa suavizada en este punto es necesario tener creado el fichero de puntos de TWL donde se reconstruyen las dinámicas. La tabla de atributos del fichero tiene que tener los siguientes campos:\n",
    "* CX\t\n",
    "* CY\n",
    "* Lon\n",
    "* Lat\n",
    "* mforeshore: pendiente intermareal (foreshore)\t\n",
    "* ksetup:     coeficiente de minoración o mayoración de la componente del setup en el TWL\t\n",
    "* kswash:     coeficiente de minoración o mayoración de la componente del swash en el TWL\t\n",
    "* ktide:      coeficiente de minoración o mayoración de la marea astronómica\n",
    "* kr:         coeficiciente de reducción del oleaje (difracción, interior estuario)\t\n",
    "\n",
    "Una vez calculada la pendiente de los perfiles, a cada punto de TWL (**puntos_TWL.shp**) se le asigna la pendiente del perfil más cercano."
   ]
  },
  {
   "cell_type": "code",
   "execution_count": 4,
   "metadata": {},
   "outputs": [],
   "source": [
    "update_mforeshore_TWL('../tests/MURCIA/DATA_IN/Perfiles/Cross_Sections_mforshore.shp',\n",
    "                      '../tests/MURCIA/DATA_IN/TWL/puntos_TWL.shp',25830,\n",
    "                      '../tests/MURCIA/DATA_IN/TWL/')"
   ]
  },
  {
   "cell_type": "markdown",
   "metadata": {},
   "source": [
    "# DINÁMICAS"
   ]
  },
  {
   "cell_type": "markdown",
   "metadata": {},
   "source": [
    "Las dinámicas son proporcionadas en formato '.mat' em puntos distribuidos a los largo de la costa. Sin embargo en python es complejo leer este tipo de ficheros y trabajo con ellos, por lo que la mejor forma de llevar a cabo to el proceso del cálculo de TWL es a partir de ficheros **netcdf**. Por esta razón se han creado una serie de funciones que convierten los ficheros **.mat** de información de oleaje y marea en ficheros netcdf. Es necesario destacar que las funciones está preparadas para utilizarlas con escenarios de cambio climático.\n",
    "\n",
    "<img src=\"http://www.gisandbeers.com/wp-content/uploads/2018/10/Archivos-NetCDF.jpg\" alt=\"drawing\" width=\"500\"/>"
   ]
  },
  {
   "cell_type": "code",
   "execution_count": 4,
   "metadata": {},
   "outputs": [
    {
     "name": "stderr",
     "output_type": "stream",
     "text": [
      "100%|████████████████████████████████████████████████████████████████████████████████████| 8/8 [00:00<00:00, 10.10it/s]\n"
     ]
    }
   ],
   "source": [
    "create_netcf_Dinamicas_DOW('../tests/MURCIA/DATA_IN/Dinamicas/','../tests/MURCIA/DATA_IN/Dinamicas/netcdf/','DOW','his')"
   ]
  },
  {
   "cell_type": "code",
   "execution_count": 5,
   "metadata": {},
   "outputs": [
    {
     "name": "stderr",
     "output_type": "stream",
     "text": [
      "100%|████████████████████████████████████████████████████████████████████████████████████| 9/9 [00:01<00:00,  5.14it/s]\n"
     ]
    }
   ],
   "source": [
    "create_netcf_MareaAst('../tests/MURCIA/DATA_IN/Dinamicas/marea_astronomica/','../tests/MURCIA/DATA_IN/Dinamicas/netcdf/')"
   ]
  },
  {
   "cell_type": "markdown",
   "metadata": {},
   "source": [
    "#  Cálculo de las condiciones de contorno\n",
    "Una vez que se han pasado las dinámicas a formato netcdf se comienza a preparar las condiciones de contorno a través del cálculo estadístico de los periodos de retorno de la variable de estudio (nivel o caudal)"
   ]
  },
  {
   "cell_type": "markdown",
   "metadata": {},
   "source": [
    "### Definimos variables y escenarios"
   ]
  },
  {
   "cell_type": "code",
   "execution_count": 4,
   "metadata": {},
   "outputs": [],
   "source": [
    "refANMM = 0.1731         # diferencia entre el sistema de referencia de las mareas (NMML) y el MDT (En la España peninsular, NMMA)\n",
    "dur_half = 5             #duración de media tormenta\n",
    "T = [5, 10, 25, 50, 100, 500] # Periodos de retorno que queremos obtener del ajuste de extremos del TWL\n",
    "timehis_ini ='2020-01-10 00:00:00'\n",
    "timehis_fin ='2020-01-24 00:00:00'\n",
    "timehis    = '2020-01-20 02:00:00' #fecha del pico de la tormenta Gloria, 2 de la mañana\n",
    "\n",
    "puntos_CC = '../tests/MURCIA/DATA_IN/TWL/puntos_TWL_foreshore.shp'"
   ]
  },
  {
   "cell_type": "code",
   "execution_count": 5,
   "metadata": {},
   "outputs": [],
   "source": [
    "# cargamos el shapefile con información del tipo de costa, difracción, marea y río\n",
    "CC = gpd.read_file(puntos_CC) # cargo el archivo puntos definidos para el cálculo del TWL con todos los atributos que contiene\n",
    "CCx = CC.CX # coordenada x utm\n",
    "CCy = CC.CY # coordenada y utm\n",
    "CClon = CC.Lon # longitud\n",
    "CClat = CC.Lat # latitud\n",
    "kswash = CC.kswash # coeficiente de minoración o mayoración de la componente del swash en el TWL\n",
    "ksetup = CC.ksetup # coeficiente de minoración o mayoración de la componente del setup en el TWL\n",
    "kr = CC.kr # coeficiciente de reducción del oleaje (difracción, interior estuario)\n",
    "mfore = CC.mforeshore # pendiente intermareal (foreshore)\n",
    "ktide = CC.ktide # coeficiente de minoración o mayoración de la marea astronómica"
   ]
  },
  {
   "cell_type": "markdown",
   "metadata": {},
   "source": [
    "### Cálculo del TWL"
   ]
  },
  {
   "cell_type": "code",
   "execution_count": 18,
   "metadata": {
    "tags": []
   },
   "outputs": [
    {
     "name": "stdout",
     "output_type": "stream",
     "text": [
      "Calculando TWL\n"
     ]
    },
    {
     "name": "stderr",
     "output_type": "stream",
     "text": [
      "100%|██████████████████████████████████████████████████████████████████████████████████| 57/57 [01:23<00:00,  1.46s/it]\n"
     ]
    }
   ],
   "source": [
    "[TWL_serie,HS_serie,PMVE_serie] = generate_files_extrems('../tests/MURCIA/DATA_IN/Dinamicas/netcdf/','../tests/MURCIA/DATA_IN/TWL/',puntos_CC,T, refANMM, 'gumbel', 25830, plot=False)"
   ]
  },
  {
   "cell_type": "markdown",
   "metadata": {},
   "source": [
    "#### Ectracción de la tormenta de referencia"
   ]
  },
  {
   "cell_type": "markdown",
   "metadata": {},
   "source": [
    "A continuación extraemos de las series de TWL buscamos la ventana temporal y el pico de una tormenta histórica de referencia (p.ej. en el Mediterráneo, tormenta Gloria)\n",
    "<img src=\"https://www.laprensa.hn/binrepository/1030x580/5c0/1020d580/none/11004/PAXX/tormenta-gloria-olas-14-metros-espana_LP1350705_MG5939624.jpg\" alt=\"drawing\" width=\"500\"/>\n",
    "\n",
    "De la tormenta extraemos el máximo en cada uno de los puntos donde se ha calculado el TWL y la fecha cuando se produce "
   ]
  },
  {
   "cell_type": "code",
   "execution_count": 24,
   "metadata": {},
   "outputs": [],
   "source": [
    "TWL_Tormenta     = TWL_serie.loc[timehis_ini:timehis_fin] # Identificamos la tormenta"
   ]
  },
  {
   "cell_type": "code",
   "execution_count": 42,
   "metadata": {},
   "outputs": [],
   "source": [
    "Max_TWL_Tormenta = TWL_Tormenta.max() # Identificamos el máximo\n",
    "Fecha_Max_TWL    = pd.to_datetime(TWL_Tormenta.index[TWL_Tormenta.values.argmax(axis=0)]) # Identificamos la fecha cuando se produce"
   ]
  },
  {
   "cell_type": "markdown",
   "metadata": {},
   "source": [
    "Además de la tormenta de referencia se cualcula el TWL de una tormenta de considerando una duración típica de las tormentas de la zona"
   ]
  },
  {
   "cell_type": "code",
   "execution_count": 55,
   "metadata": {},
   "outputs": [],
   "source": [
    "TWLpeak = []\n",
    "for i in range(0,len(TWL_serie.columns)):\n",
    "    TWLpeak.append(TWL_serie.loc[Fecha_Max_TWL[i]+timedelta(hours=-dur_half):Fecha_Max_TWL[i]+timedelta(hours=+dur_half),i].max())"
   ]
  },
  {
   "cell_type": "markdown",
   "metadata": {},
   "source": [
    "# Inputs RFSM y Ejecución\n",
    "\n",
    "Una vez calculados los valores de las condiciones de contorno que se desean analizar comenzamos a contruir los ficheros de entrada del modelo RFSM.\n",
    "\n",
    "Para configurar cada uno de los escenarios es necesario definir un evento temporal."
   ]
  },
  {
   "cell_type": "code",
   "execution_count": 2,
   "metadata": {},
   "outputs": [],
   "source": [
    "n_periods = 10\n",
    "T1 = np.arange(1,n_periods-1,2)/n_periods # Definido la longitud del período se contruye la primera parte del hidrograma. Esta sería la línea a modificar si\n",
    "                                          # se quiere otra tormenta tipo\n",
    "T2 = T1[::-1]  # Esta es la segunda parte del hidrograma, que se la primera parte ordenada a la inversa"
   ]
  },
  {
   "cell_type": "code",
   "execution_count": 3,
   "metadata": {},
   "outputs": [],
   "source": [
    "storm = np.concatenate((T1,[1],T2))"
   ]
  },
  {
   "cell_type": "code",
   "execution_count": 4,
   "metadata": {},
   "outputs": [
    {
     "data": {
      "text/plain": [
       "[<matplotlib.lines.Line2D at 0x26a5ec54e08>]"
      ]
     },
     "execution_count": 4,
     "metadata": {},
     "output_type": "execute_result"
    },
    {
     "data": {
      "image/png": "[encoded data removed]",
      "text/plain": [
       "<Figure size 432x288 with 1 Axes>"
      ]
     },
     "metadata": {},
     "output_type": "display_data"
    }
   ],
   "source": [
    "plt.plot(np.arange(1,len(storm)+1),storm,'-r' )"
   ]
  },
  {
   "cell_type": "markdown",
   "metadata": {},
   "source": [
    "Una vez que la tormenta es construida se multiplica por el valor de TWL y el caso de la pleamar se introduce el evento directamente"
   ]
  },
  {
   "cell_type": "code",
   "execution_count": 24,
   "metadata": {},
   "outputs": [],
   "source": [
    "path_outputs = 'E:/Github/RFSM/tests/MURCIA/DATA_IN/TWL/'"
   ]
  },
  {
   "cell_type": "code",
   "execution_count": 9,
   "metadata": {},
   "outputs": [],
   "source": [
    "Table_impact_zone = pd.read_csv(path_project+'ascii/tblImpactZone.csv',index_col=0)\n",
    "izcoast           = pd.read_csv(path_project+'ascii/izcoast.csv',index_col=0)"
   ]
  },
  {
   "cell_type": "markdown",
   "metadata": {},
   "source": [
    "## Pleamar Viva Equinoccial PMVE"
   ]
  },
  {
   "cell_type": "code",
   "execution_count": 10,
   "metadata": {},
   "outputs": [],
   "source": [
    "PMVE_serie = pd.read_csv(path_outputs+'Evento_PMVE.csv',index_col=0)"
   ]
  },
  {
   "cell_type": "code",
   "execution_count": 11,
   "metadata": {},
   "outputs": [],
   "source": [
    "n_periods         = len(PMVE_serie)\n",
    "TestID            = 1\n",
    "BCSetID           = 1\n",
    "BCTypeID_COAST    = 2 # 1 overtopping; # 2 level\n",
    "TestDesc          = 'PMVE'\n",
    "Results           = '1'\n",
    "make_dirs(path_project,TestDesc,Results)"
   ]
  },
  {
   "cell_type": "code",
   "execution_count": 19,
   "metadata": {},
   "outputs": [],
   "source": [
    "StartTime = '0#h'\n",
    "EndTime = str(n_periods)+'#h'\n",
    "TimeStep = 1\n",
    "SaveTimeStep = '20#m'\n",
    "MaxTimeStep = 100\n",
    "MinTimeStep = 0.0001\n",
    "AlphaParameter = 0.7\n",
    "ManningGlobalValue = 0.035"
   ]
  },
  {
   "cell_type": "code",
   "execution_count": 13,
   "metadata": {},
   "outputs": [
    {
     "name": "stderr",
     "output_type": "stream",
     "text": [
      "100%|███████████████████████████████████████████████████████████████████████████████| 726/726 [00:02<00:00, 265.27it/s]\n"
     ]
    }
   ],
   "source": [
    "tusrBCFlowLevel(table_points      = '../tests/MURCIA/DATA_IN/TWL/puntos_TWL_foreshore.shp',\n",
    "                table_inputs      = PMVE_serie,\n",
    "                path_project      = path_project,\n",
    "                TestDesc          = TestDesc,\n",
    "                Table_impact_zone = pd.read_csv(path_project+'ascii/tblImpactZone.csv',index_col=0),\n",
    "                izcoast           = pd.read_csv(path_project+'ascii/izcoast.csv',index_col=0),\n",
    "                BCSetID           =BCSetID,\n",
    "                BCTypeID_COAST    =2,\n",
    "                raw_q=False, point_X_river = None ,point_Y_river = None ,hidrograma=None)"
   ]
  },
  {
   "cell_type": "markdown",
   "metadata": {},
   "source": [
    "#### Manning"
   ]
  },
  {
   "cell_type": "code",
   "execution_count": 15,
   "metadata": {},
   "outputs": [
    {
     "name": "stderr",
     "output_type": "stream",
     "text": [
      "100%|█████████████████████████████████████████████████████████████████████████████| 4655/4655 [00:07<00:00, 638.82it/s]\n"
     ]
    }
   ],
   "source": [
    "create_file_manning(path_project,'E:/Github/RFSM/tests/MURCIA/DATA_IN/rugosidad',BCSetID,TestDesc,Table_impact_zone)"
   ]
  },
  {
   "cell_type": "markdown",
   "metadata": {},
   "source": [
    "#### Create XML"
   ]
  },
  {
   "cell_type": "code",
   "execution_count": 20,
   "metadata": {},
   "outputs": [],
   "source": [
    "create_xml(TestID,TestDesc,BCSetID,StartTime,EndTime,TimeStep,SaveTimeStep,MaxTimeStep,MinTimeStep,AlphaParameter,ManningGlobalValue,path_project,Results)"
   ]
  },
  {
   "cell_type": "markdown",
   "metadata": {},
   "source": [
    "#### Ejecución "
   ]
  },
  {
   "cell_type": "code",
   "execution_count": 21,
   "metadata": {},
   "outputs": [
    {
     "name": "stdout",
     "output_type": "stream",
     "text": [
      "Assuming windows!\n"
     ]
    }
   ],
   "source": [
    "execute_RFSM(path_project,TestDesc,TestID)"
   ]
  },
  {
   "cell_type": "markdown",
   "metadata": {},
   "source": [
    "#### Leer y exportar resultados"
   ]
  },
  {
   "cell_type": "code",
   "execution_count": 22,
   "metadata": {},
   "outputs": [
    {
     "name": "stderr",
     "output_type": "stream",
     "text": [
      "100%|████████████████████████████████████████████████████████████████████████████| 4655/4655 [00:03<00:00, 1436.74it/s]\n"
     ]
    }
   ],
   "source": [
    "export_result_RFSM(path_project,TestDesc,Results)"
   ]
  },
  {
   "cell_type": "markdown",
   "metadata": {},
   "source": [
    "## TWL Periodos de Retorno\n",
    "\n",
    "A continuación se recorren cada uno de los períodos de retorno y se simulan"
   ]
  },
  {
   "cell_type": "code",
   "execution_count": 28,
   "metadata": {},
   "outputs": [],
   "source": [
    "n_periods         = 10\n",
    "TestID            = 1\n",
    "BCSetID           = 1\n",
    "BCTypeID_COAST    = 2 # 1 overtopping; # 2 level\n",
    "Results           = '1'"
   ]
  },
  {
   "cell_type": "code",
   "execution_count": 57,
   "metadata": {},
   "outputs": [],
   "source": [
    "StartTime = '0#h'\n",
    "EndTime = str(n_periods)+'#h'\n",
    "TimeStep = 1\n",
    "SaveTimeStep = '20#m'\n",
    "MaxTimeStep = 100\n",
    "MinTimeStep = 0.0001\n",
    "AlphaParameter = 0.7\n",
    "ManningGlobalValue = 0.035"
   ]
  },
  {
   "cell_type": "code",
   "execution_count": 58,
   "metadata": {},
   "outputs": [],
   "source": [
    "TWL = pd.read_csv(path_outputs+'TWL_extrem_ROW.csv',index_col=0)"
   ]
  },
  {
   "cell_type": "code",
   "execution_count": 59,
   "metadata": {},
   "outputs": [
    {
     "name": "stderr",
     "output_type": "stream",
     "text": [
      "100%|███████████████████████████████████████████████████████████████████████████████| 726/726 [00:03<00:00, 216.27it/s]\n",
      "100%|█████████████████████████████████████████████████████████████████████████████| 4655/4655 [00:08<00:00, 579.14it/s]\n"
     ]
    },
    {
     "name": "stdout",
     "output_type": "stream",
     "text": [
      "Assuming windows!\n"
     ]
    },
    {
     "name": "stderr",
     "output_type": "stream",
     "text": [
      "100%|████████████████████████████████████████████████████████████████████████████| 4655/4655 [00:03<00:00, 1457.36it/s]\n",
      "100%|███████████████████████████████████████████████████████████████████████████████| 726/726 [00:03<00:00, 210.04it/s]\n",
      "100%|█████████████████████████████████████████████████████████████████████████████| 4655/4655 [00:07<00:00, 633.07it/s]\n"
     ]
    },
    {
     "name": "stdout",
     "output_type": "stream",
     "text": [
      "Assuming windows!\n"
     ]
    },
    {
     "name": "stderr",
     "output_type": "stream",
     "text": [
      "100%|████████████████████████████████████████████████████████████████████████████| 4655/4655 [00:03<00:00, 1434.39it/s]\n",
      "100%|███████████████████████████████████████████████████████████████████████████████| 726/726 [00:03<00:00, 214.17it/s]\n",
      "100%|█████████████████████████████████████████████████████████████████████████████| 4655/4655 [00:07<00:00, 617.27it/s]\n"
     ]
    },
    {
     "name": "stdout",
     "output_type": "stream",
     "text": [
      "Assuming windows!\n"
     ]
    },
    {
     "name": "stderr",
     "output_type": "stream",
     "text": [
      "100%|████████████████████████████████████████████████████████████████████████████| 4655/4655 [00:03<00:00, 1431.21it/s]\n",
      "100%|███████████████████████████████████████████████████████████████████████████████| 726/726 [00:03<00:00, 212.33it/s]\n",
      "100%|█████████████████████████████████████████████████████████████████████████████| 4655/4655 [00:07<00:00, 633.90it/s]\n"
     ]
    },
    {
     "name": "stdout",
     "output_type": "stream",
     "text": [
      "Assuming windows!\n"
     ]
    },
    {
     "name": "stderr",
     "output_type": "stream",
     "text": [
      "100%|████████████████████████████████████████████████████████████████████████████| 4655/4655 [00:03<00:00, 1440.31it/s]\n",
      "100%|███████████████████████████████████████████████████████████████████████████████| 726/726 [00:03<00:00, 205.11it/s]\n",
      "100%|█████████████████████████████████████████████████████████████████████████████| 4655/4655 [00:07<00:00, 634.31it/s]\n"
     ]
    },
    {
     "name": "stdout",
     "output_type": "stream",
     "text": [
      "Assuming windows!\n"
     ]
    },
    {
     "name": "stderr",
     "output_type": "stream",
     "text": [
      "100%|████████████████████████████████████████████████████████████████████████████| 4655/4655 [00:03<00:00, 1429.17it/s]\n",
      "100%|███████████████████████████████████████████████████████████████████████████████| 726/726 [00:03<00:00, 220.48it/s]\n",
      "100%|█████████████████████████████████████████████████████████████████████████████| 4655/4655 [00:07<00:00, 621.77it/s]\n"
     ]
    },
    {
     "name": "stdout",
     "output_type": "stream",
     "text": [
      "Assuming windows!\n"
     ]
    },
    {
     "name": "stderr",
     "output_type": "stream",
     "text": [
      "100%|████████████████████████████████████████████████████████████████████████████| 4655/4655 [00:03<00:00, 1449.86it/s]\n"
     ]
    }
   ],
   "source": [
    "for i in [5, 10, 25, 50, 100, 500]:\n",
    "    \n",
    "    TWL_Pr            = TWL.loc[:,str(i)]\n",
    "    TestDesc          = 'TR_'+str(i)\n",
    "    \n",
    "    make_dirs(path_project,TestDesc,Results)\n",
    "    \n",
    "    TWL_serie = pd.DataFrame((storm*TWL_Pr.values.reshape(-1,1)).T,index=np.arange(0,len(storm)),columns=TWL.index)\n",
    "    \n",
    "    tusrBCFlowLevel(table_points      = 'E:/Github/RFSM/tests/MURCIA/DATA_IN/TWL/puntos_TWL_foreshore.shp',\n",
    "                table_inputs      = TWL_serie,\n",
    "                path_project      = path_project,\n",
    "                TestDesc          = TestDesc,\n",
    "                Table_impact_zone = pd.read_csv(path_project+'ascii/tblImpactZone.csv',index_col=0),\n",
    "                izcoast           = pd.read_csv(path_project+'ascii/izcoast.csv',index_col=0),\n",
    "                BCSetID           =BCSetID,\n",
    "                BCTypeID_COAST    =2,\n",
    "                raw_q=False, point_X_river = None ,point_Y_river = None ,hidrograma=None)\n",
    "    \n",
    "    create_file_manning(path_project,'E:/Github/RFSM/tests/MURCIA/DATA_IN/rugosidad',BCSetID,TestDesc,Table_impact_zone)\n",
    "    \n",
    "    create_xml(TestID,TestDesc,BCSetID,StartTime,EndTime,TimeStep,SaveTimeStep,MaxTimeStep,MinTimeStep,AlphaParameter,ManningGlobalValue,path_project,Results)\n",
    "    \n",
    "    execute_RFSM(path_project,TestDesc,TestID)\n",
    "    \n",
    "    export_result_RFSM(path_project,TestDesc,Results)"
   ]
  },
  {
   "cell_type": "code",
   "execution_count": null,
   "metadata": {},
   "outputs": [],
   "source": []
  }
 ],
 "metadata": {
  "kernelspec": {
   "display_name": "Python 3 (ipykernel)",
   "language": "python",
   "name": "python3"
  },
  "language_info": {
   "codemirror_mode": {
    "name": "ipython",
    "version": 3
   },
   "file_extension": ".py",
   "mimetype": "text/x-python",
   "name": "python",
   "nbconvert_exporter": "python",
   "pygments_lexer": "ipython3",
   "version": "3.7.10"
  }
 },
 "nbformat": 4,
 "nbformat_minor": 4
}
