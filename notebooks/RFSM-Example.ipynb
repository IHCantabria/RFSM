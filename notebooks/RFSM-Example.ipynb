{
 "cells": [
  {
   "cell_type": "markdown",
   "metadata": {},
   "source": [
    "# Ejecución de modelos RFSM con python\n",
    "\n",
    "\n",
    "29/09/2021\n",
    "\n",
    "**Salvador Navas Fernández** ([IH Cantabria](https://ihcantabria.com/), Santander, Spain)\n",
    "\n",
    "En lo últimos años el avance de python y QGIS han permitido ir ganando terreno a ArcGIS cuya licencia no es libre. Por tanto en este trabajo se han realizado funciones que permiten realizar el trabajo en cualquier sistema operativo y de forma más optimizada y automática. El objetivo principal es el elaborar los inputs de partida del modelo RFSM y su ejecución, de esta forma se ha conseguido reducir lo tiempos de cómputo del proceso.\n",
    "\n",
    "A continuación se muestra un ejemplo de principio a fin de cómo elaborar y proyecto de RFSM, su ejecución y la obtención de resultados."
   ]
  },
  {
   "cell_type": "code",
   "execution_count": 1,
   "metadata": {},
   "outputs": [],
   "source": [
    "from RFSM_python.RFSM_funtions import *\n",
    "import warnings\n",
    "warnings.filterwarnings('ignore')"
   ]
  },
  {
   "cell_type": "markdown",
   "metadata": {
    "tags": []
   },
   "source": [
    "# INPUT\n",
    "\n",
    "En primer lugar es necesario configurar los nombres de los path donde se va a trabajar además de la configuración inicial del modelo RFSM.\n",
    "Previamente se tiene que tener ya la carpeta configurada, es decir con la siguiente distribución de carpetas que se obtiene al ejecutar las siguientes líneas. \n",
    "\n",
    "```\n",
    "project\n",
    "└───ascii\n",
    "└───bin\n",
    "└───demos\n",
    "└───doc\n",
    "└───scripts\n",
    "└───shp\n",
    "└───src\n",
    "└───test\n",
    "```\n",
    "\n"
   ]
  },
  {
   "cell_type": "code",
   "execution_count": 2,
   "metadata": {},
   "outputs": [],
   "source": [
    "path_project = '../tests/MURCIA/RFSM/' # Directorio donde se va a localizar el proyecto, es decir donde se va a simular el modelo\n",
    "#COTA_ESTUDIO = 10\n",
    "path_output = path_project+'/ascii/'\n",
    "#CoastLine=path_project+'shp/CoastPolygon.shp'\n",
    "DTM_CLIP_LC = '../tests/MURCIA/DATA_IN/MDT/mdt.asc'\n",
    "path_install_RFSM = '../tests/IHRFSM_v1.0/'"
   ]
  },
  {
   "cell_type": "code",
   "execution_count": 3,
   "metadata": {},
   "outputs": [],
   "source": [
    "#path_inputs_dinamicas='E:/RFSM/CASO_ASTURIAS/DINAMICAS_ASTURIAS/MARINE_DYNAMICS/'\n",
    "n_periods = 13"
   ]
  },
  {
   "cell_type": "code",
   "execution_count": 4,
   "metadata": {},
   "outputs": [],
   "source": [
    "TestID = 1\n",
    "TestDesc = 'Murcia_Malla_1'\n",
    "BCSetID = 1\n",
    "StartTime = '0#h'\n",
    "EndTime = str(n_periods)+'#h'\n",
    "TimeStep = 1\n",
    "SaveTimeStep = '20#m'\n",
    "MaxTimeStep = 20\n",
    "MinTimeStep = 0.0001\n",
    "AlphaParameter = 0.7\n",
    "ManningGlobalValue = 0.035\n",
    "Results = '1'\n",
    "make_dirs(path_install_RFSM,path_project,TestDesc,Results)"
   ]
  },
  {
   "cell_type": "markdown",
   "metadata": {},
   "source": [
    "Una vez creadas las carpetas Lo más importante es que las carpetas contengan los ficheros necesarios, lo más importante es la carpeta ascii de donde partiremos para preprar el modelo. En esta carpeta se deben de encontrar los ficheros que se crean tras la ejecución de 'AccData'.\n",
    "\n",
    "```\n",
    "project\n",
    "└───ascii\n",
    "│   │   floodareas.asc\n",
    "│   │   tblCell.csv\n",
    "│   │   tblImpactZone.csv\n",
    "│   │   tblIZNbrWidth.csv\n",
    "│   │   tblIZNeighbour.csv\n",
    "│   │   tblIZVolume.csv\n",
    "│   │   tblParameters.csv\n",
    "│   │   topography.asc\n",
    "│   └───check\n",
    "│       │   acccells_izid.csv\n",
    "│       │   cellid.asc\n",
    "│       │   dirdrainage.asc\n",
    "│       │   izid1.asc\n",
    "│       │   izid2.asc\n",
    "│───bin\n",
    "│───demos\n",
    "│───doc\n",
    "│───scripts\n",
    "│───shp\n",
    "│───src\n",
    "│───test\n",
    "```\n"
   ]
  },
  {
   "cell_type": "markdown",
   "metadata": {},
   "source": [
    "# PROCESO\n",
    "\n",
    "Una vez que se han obtenido la malla de proyecto de estudio, se procede a la ejecución del proceso para obtener los inputs necesarios del modelo RFSM"
   ]
  },
  {
   "cell_type": "markdown",
   "metadata": {},
   "source": [
    "## IMPACT ZONES"
   ]
  },
  {
   "cell_type": "code",
   "execution_count": 5,
   "metadata": {},
   "outputs": [
    {
     "name": "stderr",
     "output_type": "stream",
     "text": [
      "C:\\Anaconda3\\envs\\RFSM\\lib\\site-packages\\geopandas\\tools\\sjoin.py:61: UserWarning: CRS of frames being joined does not match!({} != {'proj': 'utm', 'zone': 30, 'ellps': 'GRS80', 'units': 'm', 'no_defs': True})\n",
      "  \"(%s != %s)\" % (left_df.crs, right_df.crs)\n",
      "C:\\Anaconda3\\envs\\RFSM\\lib\\site-packages\\geopandas\\tools\\sjoin.py:61: UserWarning: CRS of frames being joined does not match!({} != {'proj': 'utm', 'zone': 30, 'ellps': 'GRS80', 'units': 'm', 'no_defs': True})\n",
      "  \"(%s != %s)\" % (left_df.crs, right_df.crs)\n"
     ]
    },
    {
     "name": "stdout",
     "output_type": "stream",
     "text": [
      "180.58376002311707\n"
     ]
    }
   ],
   "source": [
    "Table_impact_zone, izcoast = impact_zones_process(path_project,DTM_CLIP_LC,cellsize=5,new_coast_Line = True)"
   ]
  },
  {
   "cell_type": "markdown",
   "metadata": {},
   "source": [
    "Una vez que se ha ejecutado la línea anterior se crean dentro de la carpeta **shp** y **ascii** ficheros importantes para la configuración del modelo RFSM\n",
    "```\n",
    "project\n",
    "└───ascii\n",
    "│   │   izcoast.csv\n",
    "│   │   tblImpactZone.csv\n",
    "└───shp\n",
    "│   │  izcoast.shp\n",
    "```\n",
    "\n",
    "El fichero **izcoast.shp** son las ImpactZones donde se incoporan las condiciones de contorno asociadas a *nivel* o *rebase*, pero en ocasiones cuando el corte del mdt no es limpio se generan celdas de contorno que no son correctas, por tanto es necesario modificar eliminando estas celdas del fichero **izcoast.shp**. Al nuevo fichero creado le llamamos **izcoast_2.shp** Para modificar la tabla de *izcoast* Se ejecuta la siguiente línea de código."
   ]
  },
  {
   "cell_type": "code",
   "execution_count": 6,
   "metadata": {},
   "outputs": [
    {
     "name": "stderr",
     "output_type": "stream",
     "text": [
      "C:\\Anaconda3\\envs\\RFSM\\lib\\site-packages\\pandas\\core\\indexing.py:1418: FutureWarning: \n",
      "Passing list-likes to .loc or [] with any missing label will raise\n",
      "KeyError in the future, you can use .reindex() as an alternative.\n",
      "\n",
      "See the documentation here:\n",
      "https://pandas.pydata.org/pandas-docs/stable/user_guide/indexing.html#deprecate-loc-reindex-listlike\n",
      "  return self._getitem_tuple(key)\n"
     ]
    }
   ],
   "source": [
    "izcoast_modify(path_project,path_project+'shp/izcoast_2.shp', path_project+'ascii/izcoast.csv', path_project+'ascii/izcoast_def.csv')"
   ]
  },
  {
   "cell_type": "markdown",
   "metadata": {},
   "source": [
    "## Puntos de entrada"
   ]
  },
  {
   "cell_type": "code",
   "execution_count": 128,
   "metadata": {},
   "outputs": [],
   "source": [
    "Table_impact_zone=pd.read_csv(path_project+'ascii/tblImpactZone.csv',index_col=0)\n",
    "izcoast=pd.read_csv(path_project+'ascii/izcoast.csv',index_col=0)"
   ]
  },
  {
   "cell_type": "markdown",
   "metadata": {},
   "source": [
    "###  LEVEL IN A SERIES OF POINTS ALONG THE COAST"
   ]
  },
  {
   "cell_type": "code",
   "execution_count": 129,
   "metadata": {},
   "outputs": [],
   "source": [
    "# Input 2: temporal\n",
    "CF_FV = 1\n",
    "xD = 569590.015\n",
    "yD = 3110298.838\n",
    "CM = 2.8\n",
    "CI_pleamar = [1.6, 2, 2.4, 2.8, 2.4, 2, 1.6]\n",
    "#CI_pleamar = [1.6, 2, 3,4, 3, 2, 1.6]\n",
    "\n",
    "Tp = 22;\n",
    "Hs = 8;\n",
    "Dur = 10;\n",
    "\n",
    "# Input 1: pleamar   \n"
   ]
  },
  {
   "cell_type": "code",
   "execution_count": 130,
   "metadata": {},
   "outputs": [],
   "source": [
    "Table_impact_zone['IZRunOffCoef'] = 0.6\n",
    "Table_impact_zone['RainfallZoneID'] = 1\n",
    "\n",
    "BCTypeID_COAST = 2"
   ]
  },
  {
   "cell_type": "code",
   "execution_count": 131,
   "metadata": {},
   "outputs": [
    {
     "name": "stderr",
     "output_type": "stream",
     "text": [
      "100%|███████████████████████████████████████████████████████████████████████████████| 590/590 [00:03<00:00, 161.73it/s]\n"
     ]
    }
   ],
   "source": [
    "tusrBCFlowLevel (path_project,TestDesc,Table_impact_zone,izcoast,BCSetID,BCTypeID_COAST,\n",
    "                    CF_FV,xD,yD,CM,CI_pleamar, n_periods,input_=2)"
   ]
  },
  {
   "cell_type": "markdown",
   "metadata": {},
   "source": [
    "## Manning"
   ]
  },
  {
   "cell_type": "code",
   "execution_count": 132,
   "metadata": {},
   "outputs": [
    {
     "name": "stderr",
     "output_type": "stream",
     "text": [
      "100%|███████████████████████████████████████████████████████████████████████████| 23983/23983 [03:25<00:00, 116.69it/s]\n"
     ]
    }
   ],
   "source": [
    "create_file_manning(path_project,'F:/PIMA_ADAPTA_MURCIA/GIS/rugosidad',TestDesc,Table_impact_zone)"
   ]
  },
  {
   "cell_type": "markdown",
   "metadata": {},
   "source": [
    "## Create XML"
   ]
  },
  {
   "cell_type": "code",
   "execution_count": 133,
   "metadata": {},
   "outputs": [],
   "source": [
    "create_xml(TestID,TestDesc,BCSetID,StartTime,EndTime,TimeStep,SaveTimeStep,MaxTimeStep,MinTimeStep,AlphaParameter,ManningGlobalValue,path_project,Results)"
   ]
  },
  {
   "cell_type": "markdown",
   "metadata": {},
   "source": [
    "## Ejecución "
   ]
  },
  {
   "cell_type": "code",
   "execution_count": 134,
   "metadata": {},
   "outputs": [
    {
     "name": "stdout",
     "output_type": "stream",
     "text": [
      "Assuming windows!\n"
     ]
    }
   ],
   "source": [
    "execute_RFSM(path_project,TestDesc,TestID)"
   ]
  },
  {
   "cell_type": "markdown",
   "metadata": {},
   "source": [
    "## Leer y exportar resultados"
   ]
  },
  {
   "cell_type": "code",
   "execution_count": 135,
   "metadata": {},
   "outputs": [
    {
     "name": "stderr",
     "output_type": "stream",
     "text": [
      "100%|██████████████████████████████████████████████████████████████████████████| 23983/23983 [00:19<00:00, 1228.62it/s]\n"
     ]
    }
   ],
   "source": [
    "export_result_RFSM_2(path_project,TestDesc,Results)"
   ]
  }
 ],
 "metadata": {
  "kernelspec": {
   "display_name": "Python 3 (ipykernel)",
   "language": "python",
   "name": "python3"
  },
  "language_info": {
   "codemirror_mode": {
    "name": "ipython",
    "version": 3
   },
   "file_extension": ".py",
   "mimetype": "text/x-python",
   "name": "python",
   "nbconvert_exporter": "python",
   "pygments_lexer": "ipython3",
   "version": "3.7.10"
  }
 },
 "nbformat": 4,
 "nbformat_minor": 4
}
