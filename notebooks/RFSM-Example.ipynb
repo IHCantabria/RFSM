{
 "cells": [
  {
   "cell_type": "markdown",
   "metadata": {},
   "source": [
    "# Ejecución de modelos RFSM con python\n",
    "\n",
    "\n",
    "29/09/2021\n",
    "\n",
    "**Salvador Navas Fernández** ([IH Cantabria](https://ihcantabria.com/), Santander, Spain)\n",
    "\n",
    "<img src=\"https://ihcantabria.com/wp-content/uploads/2020/07/Logo-IHCantabria-Universidad-Cantabria-cmyk.png\" alt=\"drawing\" width=\"500\"/>\n",
    "\n",
    "En lo últimos años el avance de python y QGIS han permitido ir ganando terreno a ArcGIS cuya licencia no es libre. Por tanto en este trabajo se han realizado funciones que permiten realizar el trabajo en cualquier sistema operativo y de forma más optimizada y automática. El objetivo principal es el elaborar los inputs de partida del modelo RFSM y su ejecución, de esta forma se ha conseguido reducir lo tiempos de cómputo del proceso.\n",
    "\n",
    "A continuación se muestra un ejemplo de principio a fin de cómo elaborar y proyecto de RFSM, su ejecución y la obtención de resultados."
   ]
  },
  {
   "cell_type": "code",
   "execution_count": 13,
   "metadata": {},
   "outputs": [],
   "source": [
    "from RFSM_python.impactzones import *\n",
    "from RFSM_python.perfiles import *\n",
    "from RFSM_python.manning import *\n",
    "from RFSM_python.tursBC import *\n",
    "from RFSM_python.executionRFSM import *\n",
    "from RFSM_python.dinamicas import *\n",
    "from RFSM_python.TWL import *\n",
    "from RFSM_python.configRFSM import *\n",
    "from RFSM_python.executionRFSM import *\n",
    "\n",
    "import warnings\n",
    "from datetime import datetime, timedelta\n",
    "import os\n",
    "warnings.filterwarnings('ignore')"
   ]
  },
  {
   "cell_type": "markdown",
   "metadata": {
    "tags": []
   },
   "source": [
    "# INPUT\n",
    "\n",
    "En primer lugar es necesario configurar los nombres de los path donde se va a trabajar además de la configuración inicial del modelo RFSM.\n",
    "Previamente se tiene que tener ya la carpeta configurada, es decir con la siguiente distribución de carpetas que se obtiene al ejecutar las siguientes líneas. \n",
    "\n",
    "```\n",
    "project\n",
    "└───ascii\n",
    "└───bin\n",
    "└───demos\n",
    "└───doc\n",
    "└───scripts\n",
    "└───shp\n",
    "└───src\n",
    "└───test\n",
    "```\n",
    "\n"
   ]
  },
  {
   "cell_type": "code",
   "execution_count": 14,
   "metadata": {},
   "outputs": [],
   "source": [
    "path_project      = 'E:/Github/RFSM/tests/MURCIA/RFSM/' # Directorio donde se va a localizar el proyecto, es decir donde se va a simular el modelo\n",
    "COTA_ESTUDIO      = 10\n",
    "cellsize          = 5\n",
    "path_output       = path_project+'/ascii/'\n",
    "DTM_CLIP_LC       = '../tests/MURCIA/DATA_IN/MDT/mdt.asc'\n",
    "path_install_RFSM = '../tests/IHRFSM_v1.0/'\n",
    "make_dirs_RFSM(path_install_RFSM,path_project)"
   ]
  },
  {
   "cell_type": "markdown",
   "metadata": {},
   "source": [
    "Una vez creadas las carpetas Lo más importante es que las carpetas contengan los ficheros necesarios, lo más importante es la carpeta ascii de donde partiremos para preprar el modelo. En esta carpeta se deben de encontrar los ficheros que se crean tras la ejecución de 'AccData'.\n",
    "\n",
    "```\n",
    "project\n",
    "└───ascii\n",
    "│   │   floodareas.asc\n",
    "│   │   tblCell.csv\n",
    "│   │   tblImpactZone.csv\n",
    "│   │   tblIZNbrWidth.csv\n",
    "│   │   tblIZNeighbour.csv\n",
    "│   │   tblIZVolume.csv\n",
    "│   │   tblParameters.csv\n",
    "│   │   topography.asc\n",
    "│   └───check\n",
    "│       │   acccells_izid.csv\n",
    "│       │   cellid.asc\n",
    "│       │   dirdrainage.asc\n",
    "│       │   izid1.asc\n",
    "│       │   izid2.asc\n",
    "│───bin\n",
    "│───demos\n",
    "│───doc\n",
    "│───scripts\n",
    "│───shp\n",
    "│───src\n",
    "│───test\n",
    "```\n"
   ]
  },
  {
   "cell_type": "markdown",
   "metadata": {},
   "source": [
    "Una vez que se han obtenido la malla de proyecto de estudio, se procede a la ejecución del proceso para obtener los inputs necesarios del modelo RFSM"
   ]
  },
  {
   "cell_type": "markdown",
   "metadata": {},
   "source": [
    "# IMPACT ZONES"
   ]
  },
  {
   "cell_type": "code",
   "execution_count": null,
   "metadata": {},
   "outputs": [],
   "source": [
    "Table_impact_zone, izcoast = impact_zones_process(path_project,DTM_CLIP_LC,cellsize=cellsize,COTA_ESTUDIO = COTA_ESTUDIO, new_coast_Line = True)"
   ]
  },
  {
   "cell_type": "markdown",
   "metadata": {},
   "source": [
    "Una vez que se ha ejecutado la línea anterior se crean dentro de la carpeta **shp** y **ascii** ficheros importantes para la configuración del modelo RFSM\n",
    "```\n",
    "project\n",
    "└───ascii\n",
    "│   │   izcoast.csv\n",
    "│   │   tblImpactZone.csv\n",
    "└───shp\n",
    "│   │  izcoast.shp\n",
    "```\n",
    "\n",
    "El fichero **izcoast.shp** son las ImpactZones donde se incoporan las condiciones de contorno asociadas a *nivel* o *rebase*, pero en ocasiones cuando el corte del mdt no es limpio se generan celdas de contorno que no son correctas, por tanto es necesario modificar eliminando estas celdas del fichero **izcoast.shp**. Al nuevo fichero creado le llamamos **izcoast_2.shp** Para modificar la tabla de *izcoast* Se ejecuta la siguiente línea de código obteniendo como resultado otro fichero csv llamado **izcoast_def.csv** que será utilizado para las condiciones de contorno de RFSM."
   ]
  },
  {
   "cell_type": "code",
   "execution_count": null,
   "metadata": {},
   "outputs": [],
   "source": [
    "izcoast_modify(path_project,path_project+'shp/izcoast_2.shp', path_project+'ascii/izcoast.csv', path_project+'ascii/izcoast_def.csv')"
   ]
  },
  {
   "cell_type": "markdown",
   "metadata": {},
   "source": [
    "# PERFILES BATIMETRÍA\n",
    "\n",
    "Uno de los parámetros necesarios necesarios en las características de los puntos de TWL es la pendiente de la costa. Como datos de partida es necesaria una linea de costa y la batimetría. La batimetría puede ser utilizada como curvas de nivel o a través de un raster.\n",
    "\n",
    "En este ejemplo se puede utilizar los dos formatos ya que se ha descargado la batimetría de la zona de estudio de la [Ecocartografía](https://www.miteco.gob.es/es/costas/temas/proteccion-costa/ecocartografias/default.aspx) y se ha generado un raster a partir de la interpolación de las curvas de nivel. Es necesario destacar que la descarga de la Batimetría de la Ecocartografía es en formato KML por lo que a través de QGIS es necesario exportarla a shape ya que la cota no está asignada a la geometría sino que está fuera.\n",
    "\n",
    "Los parámetros que se introducen son:\n",
    "* SPAC = que es la separación que se quiere entre perfiles\n",
    "* Ltierra = longitud del perfil desde la linea de costa hacia tierra\n",
    "* Lmar = longitud del perfil hacia el mar. Siempre el perfil tiene que superar el punto de dinámicas\n",
    "* Postierra = **1** Si en el sentido de avance de la línea de costa la tierra está a la izquierda **0** Si en el sentido de avance de la línea de costa la tierra está a la derecha\n",
    "* plott = **1** si se quiere plotear los perfiles y **0** si no se quiere\n",
    "\n",
    "Una vez que se generan los perfiles es necesario editarlo en GIS para evitar que se crucen o que haya perfiles fuera de la batimetría. También en ocasiones cuando se utilizan curvas de nivel es necesario verificar que todos los perfiles cruzan las curvas de nivel. Sino sería necesario editarlo también.\n"
   ]
  },
  {
   "cell_type": "code",
   "execution_count": null,
   "metadata": {},
   "outputs": [],
   "source": [
    "SPAC = 800\n",
    "Ltierra = 200\n",
    "Lmar = 1000\n",
    "Postierra = 0\n",
    "plott = 1\n",
    "EPSG  = 25830"
   ]
  },
  {
   "cell_type": "code",
   "execution_count": null,
   "metadata": {},
   "outputs": [],
   "source": [
    "traza_perfiles_linea('../tests/MURCIA/DATA_IN/Perfiles/linea_costa_suavizada.shp',\n",
    "                     SPAC,Ltierra,Lmar,Postierra,plott,path_output='../tests/MURCIA/DATA_IN/Perfiles/')"
   ]
  },
  {
   "cell_type": "markdown",
   "metadata": {},
   "source": [
    "Una vez modificado el shape de perfiles llamado **Cross_Sections.shp** se jecuta la siguiente línea para actualizar la tabla de atributos y generar el fichero de perfiles final **Cross_Sections_Final.shp**"
   ]
  },
  {
   "cell_type": "code",
   "execution_count": null,
   "metadata": {},
   "outputs": [],
   "source": [
    "correct_perfiles_linea('../tests/MURCIA/DATA_IN/Perfiles/Cross_Sections.shp',path_output='../tests/MURCIA/DATA_IN/Perfiles/')"
   ]
  },
  {
   "cell_type": "markdown",
   "metadata": {},
   "source": [
    "A continuación se calcula la pendiente para cada uno de los perfiles y se obtiene el fichero **Cross_Sections_mforshore**."
   ]
  },
  {
   "cell_type": "code",
   "execution_count": null,
   "metadata": {},
   "outputs": [],
   "source": [
    "calculate_mforshore('../tests/MURCIA/DATA_IN/Batimetria/Batimetria.tif', \n",
    "                    '../tests/MURCIA/DATA_IN/Perfiles/Cross_Sections_Final.shp', EPSG, '../tests/MURCIA/DATA_IN/Perfiles/')"
   ]
  },
  {
   "cell_type": "markdown",
   "metadata": {},
   "source": [
    "Además de la línea de costa suavizada en este punto es necesario tener creado el fichero de puntos de TWL donde se reconstruyen las dinámicas. La tabla de atributos del fichero tiene que tener los siguientes campos:\n",
    "* CX\t\n",
    "* CY\n",
    "* Lon\n",
    "* Lat\n",
    "* mforeshore: pendiente intermareal (foreshore)\t\n",
    "* ksetup:     coeficiente de minoración o mayoración de la componente del setup en el TWL\t\n",
    "* kswash:     coeficiente de minoración o mayoración de la componente del swash en el TWL\t\n",
    "* ktide:      coeficiente de minoración o mayoración de la marea astronómica\n",
    "* kr:         coeficiciente de reducción del oleaje (difracción, interior estuario)\t\n",
    "\n",
    "Una vez calculada la pendiente de los perfiles, a cada punto de TWL (**puntos_TWL.shp**) se le asigna la pendiente del perfil más cercano."
   ]
  },
  {
   "cell_type": "code",
   "execution_count": null,
   "metadata": {},
   "outputs": [],
   "source": [
    "update_mforeshore_TWL('../tests/MURCIA/DATA_IN/Perfiles/Cross_Sections_mforshore.shp',\n",
    "                      '../tests/MURCIA/DATA_IN/TWL/puntos_TWL.shp',25830,\n",
    "                      '../tests/MURCIA/DATA_IN/TWL/')"
   ]
  },
  {
   "cell_type": "markdown",
   "metadata": {},
   "source": [
    "# DINÁMICAS"
   ]
  },
  {
   "cell_type": "markdown",
   "metadata": {},
   "source": [
    "Las dinámicas son proporcionadas en formato '.mat' em puntos distribuidos a los largo de la costa. Sin embargo en python es complejo leer este tipo de ficheros y trabajo con ellos, por lo que la mejor forma de llevar a cabo to el proceso del cálculo de TWL es a partir de ficheros **netcdf**. Por esta razón se han creado una serie de funciones que convierten los ficheros **.mat** de información de oleaje y marea en ficheros netcdf. Es necesario destacar que las funciones está preparadas para utilizarlas con escenarios de cambio climático.\n",
    "\n",
    "<img src=\"http://www.gisandbeers.com/wp-content/uploads/2018/10/Archivos-NetCDF.jpg\" alt=\"drawing\" width=\"500\"/>"
   ]
  },
  {
   "cell_type": "code",
   "execution_count": null,
   "metadata": {},
   "outputs": [],
   "source": [
    "create_netcf_Dinamicas_DOW('../tests/MURCIA/DATA_IN/Dinamicas/','../tests/MURCIA/DATA_IN/Dinamicas/netcdf/','DOW','his')"
   ]
  },
  {
   "cell_type": "code",
   "execution_count": null,
   "metadata": {},
   "outputs": [],
   "source": [
    "create_netcf_MareaAst('../tests/MURCIA/DATA_IN/Dinamicas/marea_astronomica/','../tests/MURCIA/DATA_IN/Dinamicas/netcdf/')"
   ]
  },
  {
   "cell_type": "markdown",
   "metadata": {},
   "source": [
    "#  Cálculo de las condiciones de contorno\n",
    "Una vez que se han pasado las dinámicas a formato netcdf se comienza a preparar las condiciones de contorno a través del cálculo estadístico de los periodos de retorno de la variable de estudio (nivel o caudal)"
   ]
  },
  {
   "cell_type": "markdown",
   "metadata": {},
   "source": [
    "### Definimos variables y escenarios"
   ]
  },
  {
   "cell_type": "code",
   "execution_count": null,
   "metadata": {},
   "outputs": [],
   "source": [
    "refANMM = 0.1731         # diferencia entre el sistema de referencia de las mareas (NMML) y el MDT (En la España peninsular, NMMA)\n",
    "dur_half = 5             #duración de media tormenta\n",
    "T = [5, 10, 25, 50, 100, 500] # Periodos de retorno que queremos obtener del ajuste de extremos del TWL\n",
    "timehis_ini ='2020-01-10 00:00:00'\n",
    "timehis_fin ='2020-01-24 00:00:00'\n",
    "timehis    = '2020-01-20 02:00:00' #fecha del pico de la tormenta Gloria, 2 de la mañana\n",
    "\n",
    "puntos_CC = '../tests/MURCIA/DATA_IN/TWL/puntos_TWL_foreshore.shp'"
   ]
  },
  {
   "cell_type": "code",
   "execution_count": null,
   "metadata": {},
   "outputs": [],
   "source": [
    "# cargamos el shapefile con información del tipo de costa, difracción, marea y río\n",
    "CC = gpd.read_file(puntos_CC) # cargo el archivo puntos definidos para el cálculo del TWL con todos los atributos que contiene\n",
    "CCx = CC.CX # coordenada x utm\n",
    "CCy = CC.CY # coordenada y utm\n",
    "CClon = CC.Lon # longitud\n",
    "CClat = CC.Lat # latitud\n",
    "kswash = CC.kswash # coeficiente de minoración o mayoración de la componente del swash en el TWL\n",
    "ksetup = CC.ksetup # coeficiente de minoración o mayoración de la componente del setup en el TWL\n",
    "kr = CC.kr # coeficiciente de reducción del oleaje (difracción, interior estuario)\n",
    "mfore = CC.mforeshore # pendiente intermareal (foreshore)\n",
    "ktide = CC.ktide # coeficiente de minoración o mayoración de la marea astronómica"
   ]
  },
  {
   "cell_type": "markdown",
   "metadata": {},
   "source": [
    "### Cálculo del TWL"
   ]
  },
  {
   "cell_type": "code",
   "execution_count": null,
   "metadata": {
    "tags": []
   },
   "outputs": [],
   "source": [
    "[TWL_serie,HS_serie,PMVE_serie] = generate_files_extrems('../tests/MURCIA/DATA_IN/Dinamicas/netcdf/','../tests/MURCIA/DATA_IN/TWL/',puntos_CC,T, refANMM, 'gumbel', 25830, plot=False)"
   ]
  },
  {
   "cell_type": "markdown",
   "metadata": {},
   "source": [
    "#### Ectracción de la tormenta de referencia"
   ]
  },
  {
   "cell_type": "markdown",
   "metadata": {},
   "source": [
    "A continuación extraemos de las series de TWL buscamos la ventana temporal y el pico de una tormenta histórica de referencia (p.ej. en el Mediterráneo, tormenta Gloria)\n",
    "<img src=\"https://www.laprensa.hn/binrepository/1030x580/5c0/1020d580/none/11004/PAXX/tormenta-gloria-olas-14-metros-espana_LP1350705_MG5939624.jpg\" alt=\"drawing\" width=\"500\"/>\n",
    "\n",
    "De la tormenta extraemos el máximo en cada uno de los puntos donde se ha calculado el TWL y la fecha cuando se produce "
   ]
  },
  {
   "cell_type": "code",
   "execution_count": null,
   "metadata": {},
   "outputs": [],
   "source": [
    "TWL_Tormenta     = TWL_serie.loc[timehis_ini:timehis_fin] # Identificamos la tormenta"
   ]
  },
  {
   "cell_type": "code",
   "execution_count": null,
   "metadata": {},
   "outputs": [],
   "source": [
    "Max_TWL_Tormenta = TWL_Tormenta.max() # Identificamos el máximo\n",
    "Fecha_Max_TWL    = pd.to_datetime(TWL_Tormenta.index[TWL_Tormenta.values.argmax(axis=0)]) # Identificamos la fecha cuando se produce"
   ]
  },
  {
   "cell_type": "markdown",
   "metadata": {},
   "source": [
    "Además de la tormenta de referencia se cualcula el TWL de una tormenta de considerando una duración típica de las tormentas de la zona"
   ]
  },
  {
   "cell_type": "code",
   "execution_count": null,
   "metadata": {},
   "outputs": [],
   "source": [
    "TWLpeak = []\n",
    "for i in range(0,len(TWL_serie.columns)):\n",
    "    TWLpeak.append(TWL_serie.loc[Fecha_Max_TWL[i]+timedelta(hours=-dur_half):Fecha_Max_TWL[i]+timedelta(hours=+dur_half),i].max())"
   ]
  },
  {
   "cell_type": "markdown",
   "metadata": {},
   "source": [
    "# Inputs RFSM y Ejecución\n",
    "\n",
    "Una vez calculados los valores de las condiciones de contorno que se desean analizar comenzamos a contruir los ficheros de entrada del modelo RFSM.\n",
    "\n",
    "Para configurar cada uno de los escenarios es necesario definir un evento temporal."
   ]
  },
  {
   "cell_type": "code",
   "execution_count": 62,
   "metadata": {},
   "outputs": [],
   "source": [
    "n_periods = 10\n",
    "T1 = np.arange(1,n_periods-1,2)/n_periods # Definido la longitud del período se contruye la primera parte del hidrograma. Esta sería la línea a modificar si\n",
    "                                          # se quiere otra tormenta tipo\n",
    "T2 = T1[::-1]  # Esta es la segunda parte del hidrograma, que se la primera parte ordenada a la inversa"
   ]
  },
  {
   "cell_type": "code",
   "execution_count": 63,
   "metadata": {},
   "outputs": [],
   "source": [
    "storm = np.concatenate((T1,[1],T2))"
   ]
  },
  {
   "cell_type": "code",
   "execution_count": 64,
   "metadata": {},
   "outputs": [
    {
     "data": {
      "text/plain": [
       "[<matplotlib.lines.Line2D at 0x1501af66a08>]"
      ]
     },
     "execution_count": 64,
     "metadata": {},
     "output_type": "execute_result"
    },
    {
     "data": {
      "image/png": "[encoded data removed]",
      "text/plain": [
       "<Figure size 432x288 with 1 Axes>"
      ]
     },
     "metadata": {},
     "output_type": "display_data"
    }
   ],
   "source": [
    "plt.plot(np.arange(1,len(storm)+1),storm,'-r' )"
   ]
  },
  {
   "cell_type": "markdown",
   "metadata": {},
   "source": [
    "Una vez que la tormenta es construida se multiplica por el valor de TWL y el caso de la pleamar se introduce el evento directamente"
   ]
  },
  {
   "cell_type": "code",
   "execution_count": 65,
   "metadata": {},
   "outputs": [],
   "source": [
    "path_outputs = 'E:/Github/RFSM/tests/MURCIA/DATA_IN/TWL/'"
   ]
  },
  {
   "cell_type": "code",
   "execution_count": 66,
   "metadata": {},
   "outputs": [],
   "source": [
    "Table_impact_zone = pd.read_csv(path_project+'ascii/tblImpactZone.csv',index_col=0)\n",
    "izcoast           = pd.read_csv(path_project+'ascii/izcoast.csv',index_col=0)"
   ]
  },
  {
   "cell_type": "markdown",
   "metadata": {},
   "source": [
    "## Pleamar Viva Equinoccial PMVE"
   ]
  },
  {
   "cell_type": "code",
   "execution_count": 67,
   "metadata": {},
   "outputs": [],
   "source": [
    "PMVE_serie = pd.read_csv(path_outputs+'Evento_PMVE.csv',index_col=0)"
   ]
  },
  {
   "cell_type": "code",
   "execution_count": 68,
   "metadata": {},
   "outputs": [],
   "source": [
    "n_periods         = len(PMVE_serie)\n",
    "TestID            = 1\n",
    "BCSetID           = 1\n",
    "BCTypeID_COAST    = 2 # 1 overtopping; # 2 level\n",
    "TestDesc          = 'PMVE'\n",
    "Results           = '1'\n",
    "make_dirs(path_project,TestDesc,Results)"
   ]
  },
  {
   "cell_type": "code",
   "execution_count": 69,
   "metadata": {},
   "outputs": [],
   "source": [
    "StartTime = '0#h'\n",
    "EndTime = str(n_periods)+'#h'\n",
    "TimeStep = 1\n",
    "SaveTimeStep = '20#m'\n",
    "MaxTimeStep = 100\n",
    "MinTimeStep = 0.0001\n",
    "AlphaParameter = 0.7\n",
    "ManningGlobalValue = 0.035"
   ]
  },
  {
   "cell_type": "code",
   "execution_count": 70,
   "metadata": {},
   "outputs": [
    {
     "name": "stderr",
     "output_type": "stream",
     "text": [
      "100%|███████████████████████████████████████████████████████████████████████████████| 726/726 [00:02<00:00, 261.24it/s]\n"
     ]
    }
   ],
   "source": [
    "tusrBCFlowLevel(table_points      = 'E:/Github/RFSM/tests/MURCIA/DATA_IN/TWL/puntos_TWL_foreshore.shp',\n",
    "                table_inputs      = PMVE_serie,\n",
    "                path_project      = path_project,\n",
    "                TestDesc          = TestDesc,\n",
    "                Table_impact_zone = pd.read_csv(path_project+'ascii/tblImpactZone.csv',index_col=0),\n",
    "                izcoast           = pd.read_csv(path_project+'ascii/izcoast.csv',index_col=0),\n",
    "                BCSetID           =BCSetID,\n",
    "                BCTypeID_COAST    =2,\n",
    "                raw_q=False, point_X_river = None ,point_Y_river = None ,hidrograma=None)"
   ]
  },
  {
   "cell_type": "markdown",
   "metadata": {},
   "source": [
    "#### Manning"
   ]
  },
  {
   "cell_type": "code",
   "execution_count": 71,
   "metadata": {},
   "outputs": [
    {
     "name": "stderr",
     "output_type": "stream",
     "text": [
      "100%|█████████████████████████████████████████████████████████████████████████████| 4655/4655 [00:07<00:00, 633.20it/s]\n"
     ]
    }
   ],
   "source": [
    "create_file_manning(path_project,'E:/Github/RFSM/tests/MURCIA/DATA_IN/rugosidad',BCSetID,TestDesc,Table_impact_zone)"
   ]
  },
  {
   "cell_type": "markdown",
   "metadata": {},
   "source": [
    "#### Create XML"
   ]
  },
  {
   "cell_type": "code",
   "execution_count": 72,
   "metadata": {},
   "outputs": [],
   "source": [
    "create_xml(TestID,TestDesc,BCSetID,StartTime,EndTime,TimeStep,SaveTimeStep,MaxTimeStep,MinTimeStep,AlphaParameter,ManningGlobalValue,path_project,Results)"
   ]
  },
  {
   "cell_type": "markdown",
   "metadata": {},
   "source": [
    "#### Ejecución "
   ]
  },
  {
   "cell_type": "code",
   "execution_count": 73,
   "metadata": {},
   "outputs": [
    {
     "name": "stdout",
     "output_type": "stream",
     "text": [
      "Assuming windows!\n"
     ]
    }
   ],
   "source": [
    "execute_RFSM(path_project,TestDesc,TestID)"
   ]
  },
  {
   "cell_type": "markdown",
   "metadata": {},
   "source": [
    "#### Leer y exportar resultados"
   ]
  },
  {
   "cell_type": "code",
   "execution_count": 74,
   "metadata": {},
   "outputs": [
    {
     "name": "stderr",
     "output_type": "stream",
     "text": [
      "100%|████████████████████████████████████████████████████████████████████████████| 4655/4655 [00:03<00:00, 1332.73it/s]\n"
     ]
    }
   ],
   "source": [
    "export_result_RFSM(path_project,TestDesc,Results,src=25830)"
   ]
  },
  {
   "cell_type": "markdown",
   "metadata": {},
   "source": [
    "## TWL Periodos de Retorno\n",
    "\n",
    "A continuación se recorren cada uno de los períodos de retorno y se simulan"
   ]
  },
  {
   "cell_type": "code",
   "execution_count": 75,
   "metadata": {},
   "outputs": [],
   "source": [
    "n_periods         = 10\n",
    "TestID            = 1\n",
    "BCSetID           = 1\n",
    "BCTypeID_COAST    = 2 # 1 overtopping; # 2 level\n",
    "Results           = '1'"
   ]
  },
  {
   "cell_type": "code",
   "execution_count": 76,
   "metadata": {},
   "outputs": [],
   "source": [
    "StartTime = '0#h'\n",
    "EndTime = str(n_periods)+'#h'\n",
    "TimeStep = 1\n",
    "SaveTimeStep = '20#m'\n",
    "MaxTimeStep = 100\n",
    "MinTimeStep = 0.0001\n",
    "AlphaParameter = 0.7\n",
    "ManningGlobalValue = 0.035"
   ]
  },
  {
   "cell_type": "code",
   "execution_count": 77,
   "metadata": {},
   "outputs": [],
   "source": [
    "TWL = pd.read_csv(path_outputs+'TWL_extrem_ROW.csv',index_col=0)"
   ]
  },
  {
   "cell_type": "code",
   "execution_count": 78,
   "metadata": {},
   "outputs": [
    {
     "name": "stderr",
     "output_type": "stream",
     "text": [
      "100%|███████████████████████████████████████████████████████████████████████████████| 726/726 [00:03<00:00, 202.18it/s]\n",
      "100%|█████████████████████████████████████████████████████████████████████████████| 4655/4655 [00:07<00:00, 609.26it/s]\n"
     ]
    },
    {
     "name": "stdout",
     "output_type": "stream",
     "text": [
      "Assuming windows!\n"
     ]
    },
    {
     "name": "stderr",
     "output_type": "stream",
     "text": [
      "100%|████████████████████████████████████████████████████████████████████████████| 4655/4655 [00:03<00:00, 1388.77it/s]\n",
      "100%|███████████████████████████████████████████████████████████████████████████████| 726/726 [00:03<00:00, 196.97it/s]\n",
      "100%|█████████████████████████████████████████████████████████████████████████████| 4655/4655 [00:07<00:00, 624.95it/s]\n"
     ]
    },
    {
     "name": "stdout",
     "output_type": "stream",
     "text": [
      "Assuming windows!\n"
     ]
    },
    {
     "name": "stderr",
     "output_type": "stream",
     "text": [
      "100%|████████████████████████████████████████████████████████████████████████████| 4655/4655 [00:03<00:00, 1455.16it/s]\n",
      "100%|███████████████████████████████████████████████████████████████████████████████| 726/726 [00:03<00:00, 224.77it/s]\n",
      "100%|█████████████████████████████████████████████████████████████████████████████| 4655/4655 [00:07<00:00, 621.20it/s]\n"
     ]
    },
    {
     "name": "stdout",
     "output_type": "stream",
     "text": [
      "Assuming windows!\n"
     ]
    },
    {
     "name": "stderr",
     "output_type": "stream",
     "text": [
      "100%|████████████████████████████████████████████████████████████████████████████| 4655/4655 [00:03<00:00, 1326.65it/s]\n",
      "100%|███████████████████████████████████████████████████████████████████████████████| 726/726 [00:03<00:00, 203.26it/s]\n",
      "100%|█████████████████████████████████████████████████████████████████████████████| 4655/4655 [00:08<00:00, 555.01it/s]\n"
     ]
    },
    {
     "name": "stdout",
     "output_type": "stream",
     "text": [
      "Assuming windows!\n"
     ]
    },
    {
     "name": "stderr",
     "output_type": "stream",
     "text": [
      "100%|████████████████████████████████████████████████████████████████████████████| 4655/4655 [00:03<00:00, 1343.48it/s]\n",
      "100%|███████████████████████████████████████████████████████████████████████████████| 726/726 [00:03<00:00, 219.41it/s]\n",
      "100%|█████████████████████████████████████████████████████████████████████████████| 4655/4655 [00:07<00:00, 600.07it/s]\n"
     ]
    },
    {
     "name": "stdout",
     "output_type": "stream",
     "text": [
      "Assuming windows!\n"
     ]
    },
    {
     "name": "stderr",
     "output_type": "stream",
     "text": [
      "100%|████████████████████████████████████████████████████████████████████████████| 4655/4655 [00:03<00:00, 1453.81it/s]\n",
      "100%|███████████████████████████████████████████████████████████████████████████████| 726/726 [00:03<00:00, 211.55it/s]\n",
      "100%|█████████████████████████████████████████████████████████████████████████████| 4655/4655 [00:08<00:00, 517.80it/s]\n"
     ]
    },
    {
     "name": "stdout",
     "output_type": "stream",
     "text": [
      "Assuming windows!\n"
     ]
    },
    {
     "name": "stderr",
     "output_type": "stream",
     "text": [
      "100%|████████████████████████████████████████████████████████████████████████████| 4655/4655 [00:04<00:00, 1038.48it/s]\n"
     ]
    }
   ],
   "source": [
    "for i in [5, 10, 25, 50, 100, 500]:\n",
    "    \n",
    "    TWL_Pr            = TWL.loc[:,str(i)]\n",
    "    TestDesc          = 'TR_'+str(i)\n",
    "    \n",
    "    make_dirs(path_project,TestDesc,Results)\n",
    "    \n",
    "    TWL_serie = pd.DataFrame((storm*TWL_Pr.values.reshape(-1,1)).T,index=np.arange(0,len(storm)),columns=TWL.index)\n",
    "    \n",
    "    tusrBCFlowLevel(table_points      = 'E:/Github/RFSM/tests/MURCIA/DATA_IN/TWL/puntos_TWL_foreshore.shp',\n",
    "                table_inputs      = TWL_serie,\n",
    "                path_project      = path_project,\n",
    "                TestDesc          = TestDesc,\n",
    "                Table_impact_zone = pd.read_csv(path_project+'ascii/tblImpactZone.csv',index_col=0),\n",
    "                izcoast           = pd.read_csv(path_project+'ascii/izcoast.csv',index_col=0),\n",
    "                BCSetID           =BCSetID,\n",
    "                BCTypeID_COAST    =2,\n",
    "                raw_q=False, point_X_river = None ,point_Y_river = None ,hidrograma=None)\n",
    "    \n",
    "    create_file_manning(path_project,'E:/Github/RFSM/tests/MURCIA/DATA_IN/rugosidad',BCSetID,TestDesc,Table_impact_zone)\n",
    "    \n",
    "    create_xml(TestID,TestDesc,BCSetID,StartTime,EndTime,TimeStep,SaveTimeStep,MaxTimeStep,MinTimeStep,AlphaParameter,ManningGlobalValue,path_project,Results)\n",
    "    \n",
    "    execute_RFSM(path_project,TestDesc,TestID)\n",
    "    \n",
    "    export_result_RFSM(path_project,TestDesc,Results,25830)"
   ]
  },
  {
   "cell_type": "markdown",
   "metadata": {},
   "source": [
    "# Generación de KML\n",
    "\n",
    "Mediante este código se pueden generar kml a partir de los raster de inundación obtenidos de RFSM.\n",
    "\n",
    "Es necesario tener instalado python y la librería gdal que es a partir de la cual se montan los kml que posteriormente se pueden ver en un visor o Google Earth\n",
    "\n",
    "<img src=\"imagen_kml.PNG\" alt=\"drawing\" width=\"700\"/>"
   ]
  },
  {
   "cell_type": "code",
   "execution_count": 15,
   "metadata": {},
   "outputs": [],
   "source": [
    "files_TIF = list()\n",
    "for root, dirs, files in os.walk(path_project):\n",
    "    for file in files:\n",
    "        if file.startswith(\"MaxLevel_\") and file.endswith('.tif'):\n",
    "            files_TIF.append(os.path.join(root, file))"
   ]
  },
  {
   "cell_type": "code",
   "execution_count": 16,
   "metadata": {},
   "outputs": [],
   "source": [
    "path_file_color = 'E:/Github/RFSM/notebooks/KML/col.txt' # carpeta donde se encuentra el fichero de la banda de colores que se van a utilizar para representar los calados\n",
    "path_output     = 'E:/Github/RFSM/tests/MURCIA/RFSM/kml/'"
   ]
  },
  {
   "cell_type": "code",
   "execution_count": 23,
   "metadata": {},
   "outputs": [
    {
     "name": "stderr",
     "output_type": "stream",
     "text": [
      "100%|████████████████████████████████████████████████████████████████████████████████████| 7/7 [01:45<00:00, 15.04s/it]\n"
     ]
    }
   ],
   "source": [
    "os.chdir(path_output)\n",
    "for i in tqdm.tqdm(files_TIF):\n",
    "    if os.path.exists(i[:-4]):\n",
    "        continue\n",
    "    else:\n",
    "        os.system('gdaldem color-relief '+i+' '+path_file_color+' '+i[:-4]+'_Kml.TIF')\n",
    "        os.makedirs(path_output+i.split('\\\\')[-1][:-4])\n",
    "        os.system('gdal2tiles.py -a 0 -p geodetic -k '+i[:-4]+'_kml.TIF ' + path_output+i.split('\\\\')[-1][:-4])"
   ]
  },
  {
   "cell_type": "code",
   "execution_count": 24,
   "metadata": {},
   "outputs": [],
   "source": [
    "files_TIF_KML = list()\n",
    "for root, dirs, files in os.walk(path_project):\n",
    "    for file in files:\n",
    "        if file.endswith('_Kml.TIF'):\n",
    "            files_TIF_KML.append(os.path.join(root, file))"
   ]
  },
  {
   "cell_type": "code",
   "execution_count": 25,
   "metadata": {},
   "outputs": [
    {
     "name": "stderr",
     "output_type": "stream",
     "text": [
      "100%|████████████████████████████████████████████████████████████████████████████████████| 7/7 [00:05<00:00,  1.27it/s]\n"
     ]
    }
   ],
   "source": [
    "for i in tqdm.tqdm(files_TIF_KML):\n",
    "    create_legend_kml(i[:-8]+'.TIF', \n",
    "                      path_output+i.split('\\\\')[-1][:-8]+'/doc.kml', \n",
    "                      path_output+i.split('\\\\')[-1][:-8]+'/',\n",
    "                      i.split('\\\\')[-1][:-8])"
   ]
  },
  {
   "cell_type": "markdown",
   "metadata": {},
   "source": [
    "### Generar KMZ a partir de los ficheros KML"
   ]
  },
  {
   "cell_type": "code",
   "execution_count": 26,
   "metadata": {},
   "outputs": [],
   "source": [
    "directory = list()\n",
    "for i in os.listdir(path_output):\n",
    "    if i.startswith('MaxLevel_'):\n",
    "        directory.append(i)"
   ]
  },
  {
   "cell_type": "code",
   "execution_count": 27,
   "metadata": {},
   "outputs": [
    {
     "name": "stderr",
     "output_type": "stream",
     "text": [
      "  0%|                                                                                            | 0/7 [00:00<?, ?it/s]"
     ]
    },
    {
     "name": "stdout",
     "output_type": "stream",
     "text": [
      "MaxLevel_PMVE\n"
     ]
    },
    {
     "name": "stderr",
     "output_type": "stream",
     "text": [
      " 29%|████████████████████████                                                            | 2/7 [00:00<00:00,  5.23it/s]"
     ]
    },
    {
     "name": "stdout",
     "output_type": "stream",
     "text": [
      "MaxLevel_TR_10\n"
     ]
    },
    {
     "name": "stderr",
     "output_type": "stream",
     "text": [
      " 43%|████████████████████████████████████                                                | 3/7 [00:00<00:00,  5.15it/s]"
     ]
    },
    {
     "name": "stdout",
     "output_type": "stream",
     "text": [
      "MaxLevel_TR_100\n",
      "MaxLevel_TR_25\n"
     ]
    },
    {
     "name": "stderr",
     "output_type": "stream",
     "text": [
      " 71%|████████████████████████████████████████████████████████████                        | 5/7 [00:00<00:00,  5.15it/s]"
     ]
    },
    {
     "name": "stdout",
     "output_type": "stream",
     "text": [
      "MaxLevel_TR_5\n",
      "MaxLevel_TR_50\n"
     ]
    },
    {
     "name": "stderr",
     "output_type": "stream",
     "text": [
      " 86%|████████████████████████████████████████████████████████████████████████            | 6/7 [00:01<00:00,  4.04it/s]"
     ]
    },
    {
     "name": "stdout",
     "output_type": "stream",
     "text": [
      "MaxLevel_TR_500\n"
     ]
    },
    {
     "name": "stderr",
     "output_type": "stream",
     "text": [
      "100%|████████████████████████████████████████████████████████████████████████████████████| 7/7 [00:01<00:00,  4.51it/s]\n"
     ]
    }
   ],
   "source": [
    "for i in tqdm.tqdm(directory):\n",
    "    print(i)\n",
    "    os.chdir(path_output)\n",
    "    zipf = zipfile.ZipFile(i+'.zip', 'w', zipfile.ZIP_DEFLATED)\n",
    "    zipdir(i, zipf)\n",
    "    zipf.close()\n",
    "    pre, ext = os.path.splitext(i+'.zip')\n",
    "    os.rename(i+'.zip', pre + '.kmz')\n",
    "    #copyfile(pre + '.kmz', path_output+pre[:-4]+'.kmz')"
   ]
  },
  {
   "cell_type": "code",
   "execution_count": null,
   "metadata": {},
   "outputs": [],
   "source": []
  }
 ],
 "metadata": {
  "kernelspec": {
   "display_name": "Python 3 (ipykernel)",
   "language": "python",
   "name": "python3"
  },
  "language_info": {
   "codemirror_mode": {
    "name": "ipython",
    "version": 3
   },
   "file_extension": ".py",
   "mimetype": "text/x-python",
   "name": "python",
   "nbconvert_exporter": "python",
   "pygments_lexer": "ipython3",
   "version": "3.7.10"
  }
 },
 "nbformat": 4,
 "nbformat_minor": 4
}
