{
 "cells": [
  {
   "cell_type": "code",
   "execution_count": 1,
   "metadata": {},
   "outputs": [],
   "source": [
    "import pandas as pd\n",
    "import numpy as np\n",
    "import sys\n",
    "import os\n",
    "from netCDF4 import Dataset, date2num\n",
    "import glob\n",
    "import scipy.io\n",
    "import tqdm\n",
    "import xarray as xr\n",
    "import os"
   ]
  },
  {
   "cell_type": "code",
   "execution_count": 2,
   "metadata": {},
   "outputs": [],
   "source": [
    "from funciones_RFSM import *"
   ]
  },
  {
   "cell_type": "markdown",
   "metadata": {},
   "source": [
    "# Generación de ficheros NETCF para las dinámicas"
   ]
  },
  {
   "cell_type": "markdown",
   "metadata": {},
   "source": [
    "__En primer lugar vamos a generar los neccdf de las dinámicas con todos los puntos para de esta forma poder acceder a los datos más rápido.\n",
    "Para ello configuramos las siguientes variables poniendo los modelos que se van a anlizar junto con los escenarios. Esto sólo es necesario ejecutarlo una\n",
    "sola vez__"
   ]
  },
  {
   "cell_type": "code",
   "execution_count": 3,
   "metadata": {},
   "outputs": [],
   "source": [
    "scenarios = ['his','rcp45','rcp85'] # Ponemos todos los escenarios que se van a analizar\n",
    "models = ['DOW2'] # Ponemos todos los modelos de cambio climático además del ROW\n",
    "path_output = 'P:/99_GRAFCAN CAMBIO CLIMATICO/01_BASES_DE_DATOS/SeriesReconstruidasPtosObjtvo/Netcdf/' # Path donde se van a guardar los ficheros netcdf\n",
    "path_inputs = 'P:/99_GRAFCAN CAMBIO CLIMATICO/01_BASES_DE_DATOS/SeriesReconstruidasPtosObjtvo/' # Path donde se encuentran las dinámicas\n",
    "path_install_RFSM = 'C:/IHRFSM_v1.0/' # Path donde se encuentra la instalación de RFSM\n",
    "epsg = 32629 # Código EPSG del sistema de coordenadas en el que se está trabajando"
   ]
  },
  {
   "cell_type": "markdown",
   "metadata": {},
   "source": [
    "__Generamos los ficheros de marea astronómica__"
   ]
  },
  {
   "cell_type": "raw",
   "metadata": {},
   "source": [
    "create_netcf_MareaAst(path_inputs+'marea_astronomica/',path_output)"
   ]
  },
  {
   "cell_type": "markdown",
   "metadata": {},
   "source": [
    "__Generamos los ficheros de Sea Level Rise__"
   ]
  },
  {
   "cell_type": "raw",
   "metadata": {},
   "source": [
    "create_netcf_Dinamicas_SLR(path_inputs+'SLR/',path_output)"
   ]
  },
  {
   "cell_type": "markdown",
   "metadata": {},
   "source": [
    "__Generamos los ficheros de Oleaje__"
   ]
  },
  {
   "cell_type": "code",
   "execution_count": 4,
   "metadata": {},
   "outputs": [
    {
     "name": "stderr",
     "output_type": "stream",
     "text": [
      "100%|████████████████████████████████████████████████████████████████████████████████████| 5/5 [00:02<00:00,  1.72it/s]\n",
      "  0%|                                                                                            | 0/5 [00:00<?, ?it/s]\n",
      "  0%|                                                                                            | 0/5 [00:00<?, ?it/s]"
     ]
    },
    {
     "name": "stdout",
     "output_type": "stream",
     "text": [
      "Error en el modelo DOW2 en el escenario rcp45\n",
      "Error en el modelo DOW2 en el escenario rcp85\n"
     ]
    },
    {
     "name": "stderr",
     "output_type": "stream",
     "text": [
      "\n"
     ]
    }
   ],
   "source": [
    "for sc in scenarios:\n",
    "    for m in models:\n",
    "        if os.path.exists(path_output+'PtosObjtvo_DIN'+m+'_'+sc+'.nc'):\n",
    "            continue\n",
    "        else:\n",
    "            try:\n",
    "                create_netcf_Dinamicas_DOW(path_inputs,path_output,m,sc)\n",
    "            except:\n",
    "                print('Error en el modelo '+m+' en el escenario '+sc)\n",
    "                continue"
   ]
  },
  {
   "cell_type": "markdown",
   "metadata": {},
   "source": [
    "# Generación de los ficheros de Cota de inundación para distitnos periodos de retorno\n",
    "\n",
    "__A continuación se van a generar los ficheros para cada uno de los modelos y escenarios RCP 4.5 y RCP 8.5 en cada período de retorno que serán utilizados para generar las condiciones de contorno del modelo__"
   ]
  },
  {
   "cell_type": "code",
   "execution_count": 4,
   "metadata": {},
   "outputs": [],
   "source": [
    "path_inputs_dinamicas = path_output\n",
    "path_project          = 'F:/GRAFCAN/EH/RFSM/'\n",
    "table_point_carac     = pd.read_csv(path_project+'ascii/Table_points_DIN.csv',index_col=0)\n",
    "refNMMA               = 0\n",
    "fin_year_period       = [2040,2070,2099]"
   ]
  },
  {
   "cell_type": "code",
   "execution_count": null,
   "metadata": {},
   "outputs": [],
   "source": [
    "for i in models:\n",
    "    generate_files_extrems_CC(path_inputs_dinamicas,i,path_project,table_point_carac,refNMMA,fin_year_period,cod_epsg=epsg)\n",
    "    "
   ]
  },
  {
   "cell_type": "markdown",
   "metadata": {},
   "source": [
    "__Generamos también los ficheros para el escenario ROW__"
   ]
  },
  {
   "cell_type": "code",
   "execution_count": null,
   "metadata": {},
   "outputs": [],
   "source": [
    "generate_files_extrems(path_inputs_dinamicas,path_project,table_point_carac,refNMMA,cod_epsg=epsg)"
   ]
  },
  {
   "cell_type": "markdown",
   "metadata": {},
   "source": [
    "# Generación de los casos a simular\n",
    "\n",
    "__A continuación vamos a generar los diferentes casos a simular para la zona de estudio, teniendo en cuenta modelos, escenarios y períodos de retorno__"
   ]
  },
  {
   "cell_type": "code",
   "execution_count": 5,
   "metadata": {},
   "outputs": [],
   "source": [
    "temporal          = [1.6, 2, 3,4, 3, 2, 1.6]\n",
    "Table_impact_zone = pd.read_csv(path_project+'ascii/tblImpactZone.csv',index_col=0)\n",
    "izcoast           = pd.read_csv(path_project+'ascii/izcoast.csv',index_col=0)\n",
    "TestID            = 1\n",
    "BCSetID           = 1\n",
    "BCTypeID_COAST    = 2\n",
    "return_period = [20,100,500]"
   ]
  },
  {
   "cell_type": "code",
   "execution_count": 6,
   "metadata": {},
   "outputs": [],
   "source": [
    "StartTime = '0#h'\n",
    "EndTime = str(len(temporal)+9)+'#h'\n",
    "TimeStep = 1\n",
    "SaveTimeStep = '20#m'\n",
    "MaxTimeStep = 20\n",
    "MinTimeStep = 0.0001\n",
    "AlphaParameter = 0.7\n",
    "ManningGlobalValue = 0.035\n",
    "Results = '1'"
   ]
  },
  {
   "cell_type": "markdown",
   "metadata": {},
   "source": [
    "### Caso escenario ROW"
   ]
  },
  {
   "cell_type": "code",
   "execution_count": 7,
   "metadata": {},
   "outputs": [
    {
     "name": "stderr",
     "output_type": "stream",
     "text": [
      "100%|███████████████████████████████████████████████████████████████████████████████| 588/588 [00:03<00:00, 172.00it/s]\n"
     ]
    },
    {
     "name": "stdout",
     "output_type": "stream",
     "text": [
      "Assuming windows!\n"
     ]
    },
    {
     "name": "stderr",
     "output_type": "stream",
     "text": [
      "100%|██████████████████████████████████████████████████████████████████████████████| 742/742 [00:00<00:00, 1393.27it/s]\n",
      "100%|███████████████████████████████████████████████████████████████████████████████| 588/588 [00:03<00:00, 177.06it/s]\n"
     ]
    },
    {
     "name": "stdout",
     "output_type": "stream",
     "text": [
      "Assuming windows!\n"
     ]
    },
    {
     "name": "stderr",
     "output_type": "stream",
     "text": [
      "100%|██████████████████████████████████████████████████████████████████████████████| 742/742 [00:00<00:00, 1671.19it/s]\n",
      "100%|███████████████████████████████████████████████████████████████████████████████| 588/588 [00:03<00:00, 151.08it/s]\n"
     ]
    },
    {
     "name": "stdout",
     "output_type": "stream",
     "text": [
      "Assuming windows!\n"
     ]
    },
    {
     "name": "stderr",
     "output_type": "stream",
     "text": [
      "100%|██████████████████████████████████████████████████████████████████████████████| 742/742 [00:00<00:00, 1585.48it/s]\n"
     ]
    }
   ],
   "source": [
    "for T in return_period:\n",
    "    file_TWL = path_project+'sites/'+'TWL_extrem_ROW.csv'\n",
    "    #############  Ejecutamos el escenario ROW  ##############\n",
    "    ##########################################################\n",
    "\n",
    "    TestDesc = 'Sim_T_'+str(T)+'_'+'ROW'\n",
    "    \n",
    "    \n",
    "    ## Creamos directorio\n",
    "    make_dirs(path_install_RFSM,path_project,TestDesc,Results)\n",
    "    \n",
    "    ## Copiamos el fichero de rugosidad\n",
    "    shutil.copy2(path_project+'ascii/tusrIZManning.csv', path_project+'tests/'+TestDesc+'/Input_User/')\n",
    "    \n",
    "    ### Generamos el fichero de condiciones de contorno\n",
    "    tusrBCFlowLevel(table_point_carac,file_TWL,temporal,path_project,TestDesc,Table_impact_zone,\n",
    "         izcoast,BCSetID,BCTypeID_COAST,T, SLR = None,\n",
    "        raw_q=False, point_X_river = None ,point_Y_river = None ,hidrograma=None)\n",
    "\n",
    "    ## Create XML\n",
    "    create_xml(TestID,TestDesc,BCSetID,StartTime,EndTime,TimeStep,SaveTimeStep,MaxTimeStep,MinTimeStep,\n",
    "               AlphaParameter,ManningGlobalValue,path_project,Results)\n",
    "    ## Ejecutamos RFSM\n",
    "    execute_RFSM(path_project,TestDesc,TestID)\n",
    "    ## Generamos manchas de inundación\n",
    "    export_result_RFSM_2(path_project,TestDesc,Results)"
   ]
  },
  {
   "cell_type": "markdown",
   "metadata": {},
   "source": [
    "### Casos de cambio climático"
   ]
  },
  {
   "cell_type": "code",
   "execution_count": null,
   "metadata": {},
   "outputs": [],
   "source": [
    "for m in models:\n",
    "    for sc in scenarios:\n",
    "        for P in fin_year_period:\n",
    "            for T in return_period:\n",
    "                if sc =='his':\n",
    "                    file_TWL = path_project+'sites/CC/'+'TWL_extrem_'+model+'_his.csv'\n",
    "                    #############  Ejecutamos el período histórico  ##############\n",
    "                    ##############################################################\n",
    "\n",
    "                    TestDesc = 'Sim_T_'+str(T)+'_'+m+'_his'\n",
    "                    \n",
    "                     ## Creamos directorio\n",
    "                    make_dirs(path_install_RFSM,path_project,TestDesc)\n",
    "                    \n",
    "                     ## Copiamos el fichero de rugosidad\n",
    "                    shutil.copy2(path_project+'ascii/tusrIZManning.csv', path_project+'tests/'+TestDesc+'/Input_User/')\n",
    "                    \n",
    "                    ### Generamos el fichero de condiciones de contorno\n",
    "                    tusrBCFlowLevel(table_point_carac,file_TWL,temporal,path_project,TestDesc,Table_impact_zone,\n",
    "                         izcoast,BCSetID,BCTypeID_COAST,T, SLR = None,\n",
    "                        raw_q=False, point_X_river = None ,point_Y_river = None ,hidrograma=None)\n",
    "                    ## Create XML\n",
    "                    create_xml(TestID,TestDesc,BCSetID,StartTime,EndTime,TimeStep,SaveTimeStep,MaxTimeStep,MinTimeStep,\n",
    "                               AlphaParameter,ManningGlobalValue,path_project,Results)\n",
    "                    ## Ejecutamos RFSM\n",
    "                    execute_RFSM(path_project,TestDesc,TestID)\n",
    "                    ## Generamos manchas de inundación\n",
    "                    export_result_RFSM_2(path_project,TestDesc,Results)\n",
    "\n",
    "                else:\n",
    "                    file_TWL = path_project+'sites/CC/'+'TWL_extrem_'+model+'_RCP45_'+str(P)+'_.csv'\n",
    "                    ### Ejecutamos los diferentes escenarios de SLR\n",
    "\n",
    "                    #########################  MSLR  #############################\n",
    "                    ##############################################################\n",
    "                    TestDesc = 'Sim_T_'+str(T)+'_'+m+'_'+sc+'_'+'MSLR'\n",
    "                    \n",
    "                    ## Creamos directorio\n",
    "                    make_dirs(path_install_RFSM,path_project,TestDesc)\n",
    "                    \n",
    "                     ## Copiamos el fichero de rugosidad\n",
    "                    shutil.copy2(path_project+'ascii/tusrIZManning.csv', path_project+'tests/'+TestDesc+'/Input_User/')\n",
    "                    \n",
    "                    ### Generamos el fichero de condiciones de contorno\n",
    "                    tusrBCFlowLevel(table_point_carac,file_TWL,temporal,path_project,TestDesc,Table_impact_zone,\n",
    "                         izcoast,BCSetID,BCTypeID_COAST,T,SLR='MSLR',\n",
    "                        raw_q=False, point_X_river = None ,point_Y_river = None ,hidrograma=None)\n",
    "                    ## Ejecutamos RFSM\n",
    "                    execute_RFSM(path_project,TestDesc,TestID)\n",
    "                    ## Generamos manchas de inundación\n",
    "                    export_result_RFSM_2(path_project,TestDesc,Results)\n",
    "\n",
    "                    #########################  SLR_5  #############################\n",
    "                    ###############################################################\n",
    "                    TestDesc = 'Sim_T_'+str(T)+'_'+m+'_'+sc+'_'+'SLR_5'\n",
    "                    ## Creamos directorio\n",
    "                    make_dirs(path_install_RFSM,path_project,TestDesc)\n",
    "                    \n",
    "                    ## Copiamos el fichero de rugosidad\n",
    "                    shutil.copy2(path_project+'ascii/tusrIZManning.csv', path_project+'tests/'+TestDesc+'/Input_User/')\n",
    "                    \n",
    "                    ### Generamos el fichero de condiciones de contorno\n",
    "                    tusrBCFlowLevel(table_point_carac,file_TWL,temporal,path_project,TestDesc,Table_impact_zone,\n",
    "                         izcoast,BCSetID,BCTypeID_COAST,T,SLR='SLR_5',\n",
    "                        raw_q=False, point_X_river = None ,point_Y_river = None ,hidrograma=None)\n",
    "                    ## Ejecutamos RFSM\n",
    "                    execute_RFSM(path_project,TestDesc,TestID)\n",
    "                    ## Generamos manchas de inundación\n",
    "                    export_result_RFSM_2(path_project,TestDesc,Results)\n",
    "\n",
    "                    #########################  SLR_95  #############################\n",
    "                    ################################################################\n",
    "\n",
    "                    TestDesc = 'Sim_T_'+str(T)+'_'+m+'_'+sc+'_'+'SLR_95'\n",
    "                    ## Creamos directorio\n",
    "                    make_dirs(path_install_RFSM,path_project,TestDesc)\n",
    "                    \n",
    "                     ## Copiamos el fichero de rugosidad\n",
    "                    shutil.copy2(path_project+'ascii/tusrIZManning.csv', path_project+'tests/'+TestDesc+'/Input_User/')\n",
    "                    \n",
    "                    ### Generamos el fichero de condiciones de contorno\n",
    "                    tusrBCFlowLevel(table_point_carac,file_TWL,temporal,path_project,TestDesc,Table_impact_zone,\n",
    "                         izcoast,BCSetID,BCTypeID_COAST,T,SLR='SLR_95',\n",
    "                        raw_q=False, point_X_river = None ,point_Y_river = None ,hidrograma=None)\n",
    "                    ## Ejecutamos RFSM\n",
    "                    execute_RFSM(path_project,TestDesc,TestID)\n",
    "                    ## Generamos manchas de inundación\n",
    "                    export_result_RFSM_2(path_project,TestDesc,Results)"
   ]
  }
 ],
 "metadata": {
  "kernelspec": {
   "display_name": "Python 3 (ipykernel)",
   "language": "python",
   "name": "python3"
  },
  "language_info": {
   "codemirror_mode": {
    "name": "ipython",
    "version": 3
   },
   "file_extension": ".py",
   "mimetype": "text/x-python",
   "name": "python",
   "nbconvert_exporter": "python",
   "pygments_lexer": "ipython3",
   "version": "3.7.10"
  }
 },
 "nbformat": 4,
 "nbformat_minor": 4
}
