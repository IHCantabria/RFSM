{
 "cells": [
  {
   "cell_type": "code",
   "execution_count": 1,
   "metadata": {},
   "outputs": [],
   "source": [
    "from RFSM_python.RFSM_funtions import *"
   ]
  },
  {
   "cell_type": "markdown",
   "metadata": {},
   "source": [
    "# INPUT"
   ]
  },
  {
   "cell_type": "code",
   "execution_count": 5,
   "metadata": {},
   "outputs": [],
   "source": [
    "path_project = '/Users/salvadornavasfernandez/Documents/GitHub/RFSM/tests/MURCIA/RFSM/'\n",
    "#DTM=path_project+'ascii/dtm.asc'\n",
    "#COTA_ESTUDIO = 10\n",
    "path_output = path_project+'/ascii/'\n",
    "#CoastLine=path_project+'shp/CoastPolygon.shp'\n",
    "DTM_CLIP_LC = path_project+'ascii/mdt'\n",
    "path_install_RFSM = '/Users/salvadornavasfernandez/Documents/GitHub/RFSM/tests/IHRFSM_v1.0/'"
   ]
  },
  {
   "cell_type": "code",
   "execution_count": 3,
   "metadata": {},
   "outputs": [],
   "source": [
    "#path_inputs_dinamicas='E:/RFSM/CASO_ASTURIAS/DINAMICAS_ASTURIAS/MARINE_DYNAMICS/'\n",
    "n_periods = 13"
   ]
  },
  {
   "cell_type": "code",
   "execution_count": 6,
   "metadata": {},
   "outputs": [
    {
     "ename": "NameError",
     "evalue": "name 'Results' is not defined",
     "output_type": "error",
     "traceback": [
      "\u001b[0;31m---------------------------------------------------------------------------\u001b[0m",
      "\u001b[0;31mNameError\u001b[0m                                 Traceback (most recent call last)",
      "\u001b[0;32m/var/folders/ps/css0ld5n3c3_sm3_pvzj4cmr0000gn/T/ipykernel_13724/2122810604.py\u001b[0m in \u001b[0;36m<module>\u001b[0;34m\u001b[0m\n\u001b[1;32m     11\u001b[0m \u001b[0mManningGlobalValue\u001b[0m \u001b[0;34m=\u001b[0m \u001b[0;36m0.035\u001b[0m\u001b[0;34m\u001b[0m\u001b[0;34m\u001b[0m\u001b[0m\n\u001b[1;32m     12\u001b[0m \u001b[0mResults\u001b[0m \u001b[0;34m=\u001b[0m \u001b[0;34m'1'\u001b[0m\u001b[0;34m\u001b[0m\u001b[0;34m\u001b[0m\u001b[0m\n\u001b[0;32m---> 13\u001b[0;31m \u001b[0mmake_dirs\u001b[0m\u001b[0;34m(\u001b[0m\u001b[0mpath_install_RFSM\u001b[0m\u001b[0;34m,\u001b[0m\u001b[0mpath_project\u001b[0m\u001b[0;34m,\u001b[0m\u001b[0mTestDesc\u001b[0m\u001b[0;34m)\u001b[0m\u001b[0;34m\u001b[0m\u001b[0;34m\u001b[0m\u001b[0m\n\u001b[0m",
      "\u001b[0;32m~/Documents/GitHub/RFSM/RFSM_python/RFSM_funtions.py\u001b[0m in \u001b[0;36mmake_dirs\u001b[0;34m(path_install_RFSM, path_project, TestDesc)\u001b[0m\n\u001b[1;32m    407\u001b[0m         \u001b[0mos\u001b[0m\u001b[0;34m.\u001b[0m\u001b[0mmkdir\u001b[0m\u001b[0;34m(\u001b[0m\u001b[0mpath_project\u001b[0m\u001b[0;34m+\u001b[0m\u001b[0;34m'tests/'\u001b[0m\u001b[0;34m+\u001b[0m\u001b[0mTestDesc\u001b[0m\u001b[0;34m+\u001b[0m\u001b[0;34m'/log/'\u001b[0m\u001b[0;34m)\u001b[0m\u001b[0;34m\u001b[0m\u001b[0;34m\u001b[0m\u001b[0m\n\u001b[1;32m    408\u001b[0m \u001b[0;34m\u001b[0m\u001b[0m\n\u001b[0;32m--> 409\u001b[0;31m     \u001b[0;32mif\u001b[0m \u001b[0mos\u001b[0m\u001b[0;34m.\u001b[0m\u001b[0mpath\u001b[0m\u001b[0;34m.\u001b[0m\u001b[0mexists\u001b[0m\u001b[0;34m(\u001b[0m\u001b[0mpath_project\u001b[0m\u001b[0;34m+\u001b[0m\u001b[0;34m'tests/'\u001b[0m\u001b[0;34m+\u001b[0m\u001b[0mTestDesc\u001b[0m\u001b[0;34m+\u001b[0m\u001b[0;34m'/Results_'\u001b[0m\u001b[0;34m+\u001b[0m\u001b[0mstr\u001b[0m\u001b[0;34m(\u001b[0m\u001b[0mResults\u001b[0m\u001b[0;34m)\u001b[0m\u001b[0;34m+\u001b[0m\u001b[0;34m'/'\u001b[0m\u001b[0;34m)\u001b[0m \u001b[0;34m==\u001b[0m \u001b[0;32mFalse\u001b[0m\u001b[0;34m:\u001b[0m\u001b[0;34m\u001b[0m\u001b[0;34m\u001b[0m\u001b[0m\n\u001b[0m\u001b[1;32m    410\u001b[0m         \u001b[0mos\u001b[0m\u001b[0;34m.\u001b[0m\u001b[0mmkdir\u001b[0m\u001b[0;34m(\u001b[0m\u001b[0mpath_project\u001b[0m\u001b[0;34m+\u001b[0m\u001b[0;34m'tests/'\u001b[0m\u001b[0;34m+\u001b[0m\u001b[0mTestDesc\u001b[0m\u001b[0;34m+\u001b[0m\u001b[0;34m'/Results_'\u001b[0m\u001b[0;34m+\u001b[0m\u001b[0mstr\u001b[0m\u001b[0;34m(\u001b[0m\u001b[0mResults\u001b[0m\u001b[0;34m)\u001b[0m\u001b[0;34m+\u001b[0m\u001b[0;34m'/'\u001b[0m\u001b[0;34m)\u001b[0m\u001b[0;34m\u001b[0m\u001b[0;34m\u001b[0m\u001b[0m\n\u001b[1;32m    411\u001b[0m \u001b[0;34m\u001b[0m\u001b[0m\n",
      "\u001b[0;31mNameError\u001b[0m: name 'Results' is not defined"
     ]
    }
   ],
   "source": [
    "TestID = 1\n",
    "TestDesc = 'Murcia_Malla_1'\n",
    "BCSetID = 1\n",
    "StartTime = '0#h'\n",
    "EndTime = str(n_periods)+'#h'\n",
    "TimeStep = 1\n",
    "SaveTimeStep = '20#m'\n",
    "MaxTimeStep = 20\n",
    "MinTimeStep = 0.0001\n",
    "AlphaParameter = 0.7\n",
    "ManningGlobalValue = 0.035\n",
    "Results = '1'\n",
    "make_dirs(path_install_RFSM,path_project,TestDesc,Results)"
   ]
  },
  {
   "cell_type": "markdown",
   "metadata": {},
   "source": [
    "# PRE-PROCESO"
   ]
  },
  {
   "cell_type": "raw",
   "metadata": {},
   "source": [
    "preprocess_RFSM(DTM,DTM_CLIP_LC,CoastLine,path_project,epsg_n =\"32628\")"
   ]
  },
  {
   "cell_type": "raw",
   "metadata": {},
   "source": [
    "mdt_final = np.loadtxt('F:/GRAFCAN/EH/GIS/dtm_final.asc',skiprows=6)"
   ]
  },
  {
   "cell_type": "raw",
   "metadata": {},
   "source": [
    "[ncols,nrows,xllcorner,yllcorner,cellsize,NODATA_value] = header_ascii('F:/GRAFCAN/EH/GIS/dtm_final.asc')"
   ]
  },
  {
   "cell_type": "raw",
   "metadata": {},
   "source": [
    "mdt_final[(mdt_final<0)&(mdt_final!=-9999)] = 0\n",
    "floodareas = mdt_final.copy()\n",
    "floodareas[floodareas>=0]=1"
   ]
  },
  {
   "cell_type": "raw",
   "metadata": {},
   "source": [
    "rasterToASCII(path_project+'ascii/topography.asc',np.flipud(mdt_final),xllcorner, yllcorner, cellsize, NODATA_value, header=True,type_data='float')\n",
    "prj = open(path_output+'topography.prj', \"w\")\n",
    "# call the function and supply the epsg code\n",
    "epsg = getWKT_PRJ(\"32628\")\n",
    "prj.write(epsg)\n",
    "prj.close()"
   ]
  },
  {
   "cell_type": "raw",
   "metadata": {},
   "source": [
    "rasterToASCII(path_project+'ascii/floodareas.asc',np.flipud(floodareas),xllcorner, yllcorner, cellsize, NODATA_value, header=True,type_data='integer')\n",
    "prj = open(path_output+'floodareas.prj', \"w\")\n",
    "# call the function and supply the epsg code\n",
    "epsg = getWKT_PRJ(\"32628\")\n",
    "prj.write(epsg)\n",
    "prj.close()"
   ]
  },
  {
   "cell_type": "markdown",
   "metadata": {},
   "source": [
    "# PROCESO"
   ]
  },
  {
   "cell_type": "markdown",
   "metadata": {},
   "source": [
    "## IMPACT ZONES"
   ]
  },
  {
   "cell_type": "code",
   "execution_count": 126,
   "metadata": {},
   "outputs": [
    {
     "name": "stderr",
     "output_type": "stream",
     "text": [
      "C:\\Anaconda3\\lib\\site-packages\\geopandas\\tools\\sjoin.py:61: UserWarning: CRS of frames being joined does not match!({} != {'proj': 'utm', 'zone': 30, 'ellps': 'GRS80', 'units': 'm', 'no_defs': True})\n",
      "  \"(%s != %s)\" % (left_df.crs, right_df.crs)\n",
      "C:\\Anaconda3\\lib\\site-packages\\geopandas\\tools\\sjoin.py:61: UserWarning: CRS of frames being joined does not match!({} != {'proj': 'utm', 'zone': 30, 'ellps': 'GRS80', 'units': 'm', 'no_defs': True})\n",
      "  \"(%s != %s)\" % (left_df.crs, right_df.crs)\n"
     ]
    },
    {
     "name": "stdout",
     "output_type": "stream",
     "text": [
      "3338.3295106887817\n"
     ]
    }
   ],
   "source": [
    "Table_impact_zone, izcoast = impact_zones_process(path_project,DTM_CLIP_LC,cellsize=3,new_coast_Line = False)"
   ]
  },
  {
   "cell_type": "code",
   "execution_count": 127,
   "metadata": {},
   "outputs": [],
   "source": [
    "izcoast_modify(path_project+'shp/izcoast.shp',Table_impact_zone, path_project+'ascii/izcoast.csv')"
   ]
  },
  {
   "cell_type": "markdown",
   "metadata": {},
   "source": [
    "## Puntos de entrada"
   ]
  },
  {
   "cell_type": "code",
   "execution_count": 128,
   "metadata": {},
   "outputs": [],
   "source": [
    "Table_impact_zone=pd.read_csv(path_project+'ascii/tblImpactZone.csv',index_col=0)\n",
    "izcoast=pd.read_csv(path_project+'ascii/izcoast.csv',index_col=0)"
   ]
  },
  {
   "cell_type": "markdown",
   "metadata": {},
   "source": [
    "###  LEVEL IN A SERIES OF POINTS ALONG THE COAST"
   ]
  },
  {
   "cell_type": "code",
   "execution_count": 129,
   "metadata": {},
   "outputs": [],
   "source": [
    "# Input 2: temporal\n",
    "CF_FV = 1\n",
    "xD = 569590.015\n",
    "yD = 3110298.838\n",
    "CM = 2.8\n",
    "CI_pleamar = [1.6, 2, 2.4, 2.8, 2.4, 2, 1.6]\n",
    "#CI_pleamar = [1.6, 2, 3,4, 3, 2, 1.6]\n",
    "\n",
    "Tp = 22;\n",
    "Hs = 8;\n",
    "Dur = 10;\n",
    "\n",
    "# Input 1: pleamar   \n"
   ]
  },
  {
   "cell_type": "code",
   "execution_count": 130,
   "metadata": {},
   "outputs": [],
   "source": [
    "Table_impact_zone['IZRunOffCoef'] = 0.6\n",
    "Table_impact_zone['RainfallZoneID'] = 1\n",
    "\n",
    "BCTypeID_COAST = 2"
   ]
  },
  {
   "cell_type": "code",
   "execution_count": 131,
   "metadata": {},
   "outputs": [
    {
     "name": "stderr",
     "output_type": "stream",
     "text": [
      "100%|███████████████████████████████████████████████████████████████████████████████| 590/590 [00:03<00:00, 161.73it/s]\n"
     ]
    }
   ],
   "source": [
    "tusrBCFlowLevel (path_project,TestDesc,Table_impact_zone,izcoast,BCSetID,BCTypeID_COAST,\n",
    "                    CF_FV,xD,yD,CM,CI_pleamar, n_periods,input_=2)"
   ]
  },
  {
   "cell_type": "markdown",
   "metadata": {},
   "source": [
    "## Manning"
   ]
  },
  {
   "cell_type": "code",
   "execution_count": 132,
   "metadata": {},
   "outputs": [
    {
     "name": "stderr",
     "output_type": "stream",
     "text": [
      "100%|███████████████████████████████████████████████████████████████████████████| 23983/23983 [03:25<00:00, 116.69it/s]\n"
     ]
    }
   ],
   "source": [
    "create_file_manning(path_project,'F:/PIMA_ADAPTA_MURCIA/GIS/rugosidad',TestDesc,Table_impact_zone)"
   ]
  },
  {
   "cell_type": "markdown",
   "metadata": {},
   "source": [
    "## Create XML"
   ]
  },
  {
   "cell_type": "code",
   "execution_count": 133,
   "metadata": {},
   "outputs": [],
   "source": [
    "create_xml(TestID,TestDesc,BCSetID,StartTime,EndTime,TimeStep,SaveTimeStep,MaxTimeStep,MinTimeStep,AlphaParameter,ManningGlobalValue,path_project,Results)"
   ]
  },
  {
   "cell_type": "markdown",
   "metadata": {},
   "source": [
    "## Ejecución "
   ]
  },
  {
   "cell_type": "code",
   "execution_count": 134,
   "metadata": {},
   "outputs": [
    {
     "name": "stdout",
     "output_type": "stream",
     "text": [
      "Assuming windows!\n"
     ]
    }
   ],
   "source": [
    "execute_RFSM(path_project,TestDesc,TestID)"
   ]
  },
  {
   "cell_type": "markdown",
   "metadata": {},
   "source": [
    "## Leer y exportar resultados"
   ]
  },
  {
   "cell_type": "code",
   "execution_count": 135,
   "metadata": {},
   "outputs": [
    {
     "name": "stderr",
     "output_type": "stream",
     "text": [
      "100%|██████████████████████████████████████████████████████████████████████████| 23983/23983 [00:19<00:00, 1228.62it/s]\n"
     ]
    }
   ],
   "source": [
    "export_result_RFSM_2(path_project,TestDesc,Results)"
   ]
  }
 ],
 "metadata": {
  "kernelspec": {
   "display_name": "Python 3 (ipykernel)",
   "language": "python",
   "name": "python3"
  },
  "language_info": {
   "codemirror_mode": {
    "name": "ipython",
    "version": 3
   },
   "file_extension": ".py",
   "mimetype": "text/x-python",
   "name": "python",
   "nbconvert_exporter": "python",
   "pygments_lexer": "ipython3",
   "version": "3.9.7"
  }
 },
 "nbformat": 4,
 "nbformat_minor": 4
}
